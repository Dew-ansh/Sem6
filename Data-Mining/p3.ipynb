{
 "nbformat": 4,
 "nbformat_minor": 2,
 "metadata": {
  "language_info": {
   "name": "python",
   "codemirror_mode": {
    "name": "ipython",
    "version": 3
   },
   "version": "3.7.4-final"
  },
  "orig_nbformat": 2,
  "file_extension": ".py",
  "mimetype": "text/x-python",
  "name": "python",
  "npconvert_exporter": "python",
  "pygments_lexer": "ipython3",
  "version": 3,
  "kernelspec": {
   "name": "python3",
   "display_name": "Python 3"
  }
 },
 "cells": [
  {
   "cell_type": "code",
   "execution_count": 3,
   "metadata": {},
   "outputs": [
    {
     "data": {
      "text/html": "<div>\n<style scoped>\n    .dataframe tbody tr th:only-of-type {\n        vertical-align: middle;\n    }\n\n    .dataframe tbody tr th {\n        vertical-align: top;\n    }\n\n    .dataframe thead th {\n        text-align: right;\n    }\n</style>\n<table border=\"1\" class=\"dataframe\">\n  <thead>\n    <tr style=\"text-align: right;\">\n      <th></th>\n      <th>Wine</th>\n      <th>Alcohol</th>\n      <th>Malic.acid</th>\n      <th>Ash</th>\n      <th>Acl</th>\n      <th>Mg</th>\n      <th>Phenols</th>\n      <th>Flavanoids</th>\n      <th>Nonflavanoid.phenols</th>\n      <th>Proanth</th>\n      <th>Color.int</th>\n      <th>Hue</th>\n      <th>OD</th>\n      <th>Proline</th>\n    </tr>\n  </thead>\n  <tbody>\n    <tr>\n      <td>count</td>\n      <td>178.000000</td>\n      <td>178.000000</td>\n      <td>178.000000</td>\n      <td>178.000000</td>\n      <td>178.000000</td>\n      <td>178.000000</td>\n      <td>178.000000</td>\n      <td>178.000000</td>\n      <td>178.000000</td>\n      <td>178.000000</td>\n      <td>178.000000</td>\n      <td>178.000000</td>\n      <td>178.000000</td>\n      <td>178.000000</td>\n    </tr>\n    <tr>\n      <td>mean</td>\n      <td>1.938202</td>\n      <td>13.000618</td>\n      <td>2.336348</td>\n      <td>2.366517</td>\n      <td>19.494944</td>\n      <td>99.741573</td>\n      <td>2.295112</td>\n      <td>2.029270</td>\n      <td>0.361854</td>\n      <td>1.590899</td>\n      <td>5.058090</td>\n      <td>0.957449</td>\n      <td>2.611685</td>\n      <td>746.893258</td>\n    </tr>\n    <tr>\n      <td>std</td>\n      <td>0.775035</td>\n      <td>0.811827</td>\n      <td>1.117146</td>\n      <td>0.274344</td>\n      <td>3.339564</td>\n      <td>14.282484</td>\n      <td>0.625851</td>\n      <td>0.998859</td>\n      <td>0.124453</td>\n      <td>0.572359</td>\n      <td>2.318286</td>\n      <td>0.228572</td>\n      <td>0.709990</td>\n      <td>314.907474</td>\n    </tr>\n    <tr>\n      <td>min</td>\n      <td>1.000000</td>\n      <td>11.030000</td>\n      <td>0.740000</td>\n      <td>1.360000</td>\n      <td>10.600000</td>\n      <td>70.000000</td>\n      <td>0.980000</td>\n      <td>0.340000</td>\n      <td>0.130000</td>\n      <td>0.410000</td>\n      <td>1.280000</td>\n      <td>0.480000</td>\n      <td>1.270000</td>\n      <td>278.000000</td>\n    </tr>\n    <tr>\n      <td>25%</td>\n      <td>1.000000</td>\n      <td>12.362500</td>\n      <td>1.602500</td>\n      <td>2.210000</td>\n      <td>17.200000</td>\n      <td>88.000000</td>\n      <td>1.742500</td>\n      <td>1.205000</td>\n      <td>0.270000</td>\n      <td>1.250000</td>\n      <td>3.220000</td>\n      <td>0.782500</td>\n      <td>1.937500</td>\n      <td>500.500000</td>\n    </tr>\n    <tr>\n      <td>50%</td>\n      <td>2.000000</td>\n      <td>13.050000</td>\n      <td>1.865000</td>\n      <td>2.360000</td>\n      <td>19.500000</td>\n      <td>98.000000</td>\n      <td>2.355000</td>\n      <td>2.135000</td>\n      <td>0.340000</td>\n      <td>1.555000</td>\n      <td>4.690000</td>\n      <td>0.965000</td>\n      <td>2.780000</td>\n      <td>673.500000</td>\n    </tr>\n    <tr>\n      <td>75%</td>\n      <td>3.000000</td>\n      <td>13.677500</td>\n      <td>3.082500</td>\n      <td>2.557500</td>\n      <td>21.500000</td>\n      <td>107.000000</td>\n      <td>2.800000</td>\n      <td>2.875000</td>\n      <td>0.437500</td>\n      <td>1.950000</td>\n      <td>6.200000</td>\n      <td>1.120000</td>\n      <td>3.170000</td>\n      <td>985.000000</td>\n    </tr>\n    <tr>\n      <td>max</td>\n      <td>3.000000</td>\n      <td>14.830000</td>\n      <td>5.800000</td>\n      <td>3.230000</td>\n      <td>30.000000</td>\n      <td>162.000000</td>\n      <td>3.880000</td>\n      <td>5.080000</td>\n      <td>0.660000</td>\n      <td>3.580000</td>\n      <td>13.000000</td>\n      <td>1.710000</td>\n      <td>4.000000</td>\n      <td>1680.000000</td>\n    </tr>\n  </tbody>\n</table>\n</div>",
      "text/plain": "             Wine     Alcohol  Malic.acid         Ash         Acl          Mg  \\\ncount  178.000000  178.000000  178.000000  178.000000  178.000000  178.000000   \nmean     1.938202   13.000618    2.336348    2.366517   19.494944   99.741573   \nstd      0.775035    0.811827    1.117146    0.274344    3.339564   14.282484   \nmin      1.000000   11.030000    0.740000    1.360000   10.600000   70.000000   \n25%      1.000000   12.362500    1.602500    2.210000   17.200000   88.000000   \n50%      2.000000   13.050000    1.865000    2.360000   19.500000   98.000000   \n75%      3.000000   13.677500    3.082500    2.557500   21.500000  107.000000   \nmax      3.000000   14.830000    5.800000    3.230000   30.000000  162.000000   \n\n          Phenols  Flavanoids  Nonflavanoid.phenols     Proanth   Color.int  \\\ncount  178.000000  178.000000            178.000000  178.000000  178.000000   \nmean     2.295112    2.029270              0.361854    1.590899    5.058090   \nstd      0.625851    0.998859              0.124453    0.572359    2.318286   \nmin      0.980000    0.340000              0.130000    0.410000    1.280000   \n25%      1.742500    1.205000              0.270000    1.250000    3.220000   \n50%      2.355000    2.135000              0.340000    1.555000    4.690000   \n75%      2.800000    2.875000              0.437500    1.950000    6.200000   \nmax      3.880000    5.080000              0.660000    3.580000   13.000000   \n\n              Hue          OD      Proline  \ncount  178.000000  178.000000   178.000000  \nmean     0.957449    2.611685   746.893258  \nstd      0.228572    0.709990   314.907474  \nmin      0.480000    1.270000   278.000000  \n25%      0.782500    1.937500   500.500000  \n50%      0.965000    2.780000   673.500000  \n75%      1.120000    3.170000   985.000000  \nmax      1.710000    4.000000  1680.000000  "
     },
     "execution_count": 3,
     "metadata": {},
     "output_type": "execute_result"
    }
   ],
   "source": [
    "import numpy as np\n",
    "import pandas as pd\n",
    "\n",
    "wine = pd.read_csv('wine.csv')\n",
    "wine.describe()"
   ]
  },
  {
   "cell_type": "code",
   "execution_count": 23,
   "metadata": {},
   "outputs": [
    {
     "data": {
      "text/html": "<div>\n<style scoped>\n    .dataframe tbody tr th:only-of-type {\n        vertical-align: middle;\n    }\n\n    .dataframe tbody tr th {\n        vertical-align: top;\n    }\n\n    .dataframe thead th {\n        text-align: right;\n    }\n</style>\n<table border=\"1\" class=\"dataframe\">\n  <thead>\n    <tr style=\"text-align: right;\">\n      <th></th>\n      <th>Wine</th>\n      <th>Alcohol</th>\n      <th>Malic.acid</th>\n      <th>Ash</th>\n      <th>Acl</th>\n      <th>Mg</th>\n      <th>Phenols</th>\n      <th>Flavanoids</th>\n      <th>Nonflavanoid.phenols</th>\n      <th>Proanth</th>\n      <th>Color.int</th>\n      <th>Hue</th>\n      <th>OD</th>\n      <th>Proline</th>\n    </tr>\n  </thead>\n  <tbody>\n    <tr>\n      <td>count</td>\n      <td>1.780000e+02</td>\n      <td>178.000000</td>\n      <td>1.780000e+02</td>\n      <td>1.780000e+02</td>\n      <td>1.780000e+02</td>\n      <td>1.780000e+02</td>\n      <td>1.780000e+02</td>\n      <td>1.780000e+02</td>\n      <td>1.780000e+02</td>\n      <td>1.780000e+02</td>\n      <td>1.780000e+02</td>\n      <td>1.780000e+02</td>\n      <td>1.780000e+02</td>\n      <td>1.780000e+02</td>\n    </tr>\n    <tr>\n      <td>mean</td>\n      <td>3.118604e-16</td>\n      <td>0.000000</td>\n      <td>2.494883e-17</td>\n      <td>-4.241301e-17</td>\n      <td>-8.981580e-17</td>\n      <td>5.831789e-17</td>\n      <td>1.995907e-17</td>\n      <td>1.297339e-16</td>\n      <td>1.911081e-15</td>\n      <td>-2.681999e-17</td>\n      <td>3.243348e-17</td>\n      <td>4.989766e-17</td>\n      <td>-2.619627e-17</td>\n      <td>7.172789e-17</td>\n    </tr>\n    <tr>\n      <td>std</td>\n      <td>1.000000e+00</td>\n      <td>1.000000</td>\n      <td>1.000000e+00</td>\n      <td>1.000000e+00</td>\n      <td>1.000000e+00</td>\n      <td>1.000000e+00</td>\n      <td>1.000000e+00</td>\n      <td>1.000000e+00</td>\n      <td>1.000000e+00</td>\n      <td>1.000000e+00</td>\n      <td>1.000000e+00</td>\n      <td>1.000000e+00</td>\n      <td>1.000000e+00</td>\n      <td>1.000000e+00</td>\n    </tr>\n    <tr>\n      <td>min</td>\n      <td>-1.210529e+00</td>\n      <td>-2.427388</td>\n      <td>-1.428952e+00</td>\n      <td>-3.668813e+00</td>\n      <td>-2.663505e+00</td>\n      <td>-2.082381e+00</td>\n      <td>-2.101318e+00</td>\n      <td>-1.691200e+00</td>\n      <td>-1.862979e+00</td>\n      <td>-2.063214e+00</td>\n      <td>-1.629691e+00</td>\n      <td>-2.088840e+00</td>\n      <td>-1.889723e+00</td>\n      <td>-1.488987e+00</td>\n    </tr>\n    <tr>\n      <td>25%</td>\n      <td>-1.210529e+00</td>\n      <td>-0.786027</td>\n      <td>-6.568956e-01</td>\n      <td>-5.705131e-01</td>\n      <td>-6.871987e-01</td>\n      <td>-8.220960e-01</td>\n      <td>-8.829774e-01</td>\n      <td>-8.252115e-01</td>\n      <td>-7.380592e-01</td>\n      <td>-5.956034e-01</td>\n      <td>-7.928659e-01</td>\n      <td>-7.654033e-01</td>\n      <td>-9.495697e-01</td>\n      <td>-7.824306e-01</td>\n    </tr>\n    <tr>\n      <td>50%</td>\n      <td>7.973544e-02</td>\n      <td>0.060828</td>\n      <td>-4.219218e-01</td>\n      <td>-2.375431e-02</td>\n      <td>1.514024e-03</td>\n      <td>-1.219377e-01</td>\n      <td>9.568993e-02</td>\n      <td>1.058511e-01</td>\n      <td>-1.755994e-01</td>\n      <td>-6.272092e-02</td>\n      <td>-1.587767e-01</td>\n      <td>3.303369e-02</td>\n      <td>2.370660e-01</td>\n      <td>-2.330629e-01</td>\n    </tr>\n    <tr>\n      <td>75%</td>\n      <td>1.370000e+00</td>\n      <td>0.833777</td>\n      <td>6.679088e-01</td>\n      <td>6.961448e-01</td>\n      <td>6.003946e-01</td>\n      <td>5.082048e-01</td>\n      <td>8.067217e-01</td>\n      <td>8.466967e-01</td>\n      <td>6.078267e-01</td>\n      <td>6.274055e-01</td>\n      <td>4.925666e-01</td>\n      <td>7.111583e-01</td>\n      <td>7.863692e-01</td>\n      <td>7.561165e-01</td>\n    </tr>\n    <tr>\n      <td>max</td>\n      <td>1.370000e+00</td>\n      <td>2.253415</td>\n      <td>3.100446e+00</td>\n      <td>3.147447e+00</td>\n      <td>3.145637e+00</td>\n      <td>4.359076e+00</td>\n      <td>2.532372e+00</td>\n      <td>3.054216e+00</td>\n      <td>2.395645e+00</td>\n      <td>3.475269e+00</td>\n      <td>3.425768e+00</td>\n      <td>3.292407e+00</td>\n      <td>1.955399e+00</td>\n      <td>2.963114e+00</td>\n    </tr>\n  </tbody>\n</table>\n</div>",
      "text/plain": "               Wine     Alcohol    Malic.acid           Ash           Acl  \\\ncount  1.780000e+02  178.000000  1.780000e+02  1.780000e+02  1.780000e+02   \nmean   3.118604e-16    0.000000  2.494883e-17 -4.241301e-17 -8.981580e-17   \nstd    1.000000e+00    1.000000  1.000000e+00  1.000000e+00  1.000000e+00   \nmin   -1.210529e+00   -2.427388 -1.428952e+00 -3.668813e+00 -2.663505e+00   \n25%   -1.210529e+00   -0.786027 -6.568956e-01 -5.705131e-01 -6.871987e-01   \n50%    7.973544e-02    0.060828 -4.219218e-01 -2.375431e-02  1.514024e-03   \n75%    1.370000e+00    0.833777  6.679088e-01  6.961448e-01  6.003946e-01   \nmax    1.370000e+00    2.253415  3.100446e+00  3.147447e+00  3.145637e+00   \n\n                 Mg       Phenols    Flavanoids  Nonflavanoid.phenols  \\\ncount  1.780000e+02  1.780000e+02  1.780000e+02          1.780000e+02   \nmean   5.831789e-17  1.995907e-17  1.297339e-16          1.911081e-15   \nstd    1.000000e+00  1.000000e+00  1.000000e+00          1.000000e+00   \nmin   -2.082381e+00 -2.101318e+00 -1.691200e+00         -1.862979e+00   \n25%   -8.220960e-01 -8.829774e-01 -8.252115e-01         -7.380592e-01   \n50%   -1.219377e-01  9.568993e-02  1.058511e-01         -1.755994e-01   \n75%    5.082048e-01  8.067217e-01  8.466967e-01          6.078267e-01   \nmax    4.359076e+00  2.532372e+00  3.054216e+00          2.395645e+00   \n\n            Proanth     Color.int           Hue            OD       Proline  \ncount  1.780000e+02  1.780000e+02  1.780000e+02  1.780000e+02  1.780000e+02  \nmean  -2.681999e-17  3.243348e-17  4.989766e-17 -2.619627e-17  7.172789e-17  \nstd    1.000000e+00  1.000000e+00  1.000000e+00  1.000000e+00  1.000000e+00  \nmin   -2.063214e+00 -1.629691e+00 -2.088840e+00 -1.889723e+00 -1.488987e+00  \n25%   -5.956034e-01 -7.928659e-01 -7.654033e-01 -9.495697e-01 -7.824306e-01  \n50%   -6.272092e-02 -1.587767e-01  3.303369e-02  2.370660e-01 -2.330629e-01  \n75%    6.274055e-01  4.925666e-01  7.111583e-01  7.863692e-01  7.561165e-01  \nmax    3.475269e+00  3.425768e+00  3.292407e+00  1.955399e+00  2.963114e+00  "
     },
     "execution_count": 23,
     "metadata": {},
     "output_type": "execute_result"
    }
   ],
   "source": [
    "wine = wine.apply(lambda x: (x - x.mean()) / x.std() , axis = 0)\n",
    "wine.describe()"
   ]
  },
  {
   "cell_type": "code",
   "execution_count": 10,
   "metadata": {},
   "outputs": [
    {
     "data": {
      "text/html": "<div>\n<style scoped>\n    .dataframe tbody tr th:only-of-type {\n        vertical-align: middle;\n    }\n\n    .dataframe tbody tr th {\n        vertical-align: top;\n    }\n\n    .dataframe thead th {\n        text-align: right;\n    }\n</style>\n<table border=\"1\" class=\"dataframe\">\n  <thead>\n    <tr style=\"text-align: right;\">\n      <th></th>\n      <th>sepal_length</th>\n      <th>sepal_width</th>\n      <th>petal_length</th>\n      <th>petal_width</th>\n    </tr>\n  </thead>\n  <tbody>\n    <tr>\n      <td>count</td>\n      <td>150.000000</td>\n      <td>150.000000</td>\n      <td>150.000000</td>\n      <td>150.000000</td>\n    </tr>\n    <tr>\n      <td>mean</td>\n      <td>5.843333</td>\n      <td>3.054000</td>\n      <td>3.758667</td>\n      <td>1.198667</td>\n    </tr>\n    <tr>\n      <td>std</td>\n      <td>0.828066</td>\n      <td>0.433594</td>\n      <td>1.764420</td>\n      <td>0.763161</td>\n    </tr>\n    <tr>\n      <td>min</td>\n      <td>4.300000</td>\n      <td>2.000000</td>\n      <td>1.000000</td>\n      <td>0.100000</td>\n    </tr>\n    <tr>\n      <td>25%</td>\n      <td>5.100000</td>\n      <td>2.800000</td>\n      <td>1.600000</td>\n      <td>0.300000</td>\n    </tr>\n    <tr>\n      <td>50%</td>\n      <td>5.800000</td>\n      <td>3.000000</td>\n      <td>4.350000</td>\n      <td>1.300000</td>\n    </tr>\n    <tr>\n      <td>75%</td>\n      <td>6.400000</td>\n      <td>3.300000</td>\n      <td>5.100000</td>\n      <td>1.800000</td>\n    </tr>\n    <tr>\n      <td>max</td>\n      <td>7.900000</td>\n      <td>4.400000</td>\n      <td>6.900000</td>\n      <td>2.500000</td>\n    </tr>\n  </tbody>\n</table>\n</div>",
      "text/plain": "       sepal_length  sepal_width  petal_length  petal_width\ncount    150.000000   150.000000    150.000000   150.000000\nmean       5.843333     3.054000      3.758667     1.198667\nstd        0.828066     0.433594      1.764420     0.763161\nmin        4.300000     2.000000      1.000000     0.100000\n25%        5.100000     2.800000      1.600000     0.300000\n50%        5.800000     3.000000      4.350000     1.300000\n75%        6.400000     3.300000      5.100000     1.800000\nmax        7.900000     4.400000      6.900000     2.500000"
     },
     "execution_count": 10,
     "metadata": {},
     "output_type": "execute_result"
    }
   ],
   "source": [
    "iris = pd.read_csv('iris.csv')\n",
    "iris = iris.iloc[:,0 : 4]\n",
    "iris.describe()"
   ]
  },
  {
   "cell_type": "code",
   "execution_count": 12,
   "metadata": {},
   "outputs": [
    {
     "data": {
      "text/html": "<div>\n<style scoped>\n    .dataframe tbody tr th:only-of-type {\n        vertical-align: middle;\n    }\n\n    .dataframe tbody tr th {\n        vertical-align: top;\n    }\n\n    .dataframe thead th {\n        text-align: right;\n    }\n</style>\n<table border=\"1\" class=\"dataframe\">\n  <thead>\n    <tr style=\"text-align: right;\">\n      <th></th>\n      <th>sepal_length</th>\n      <th>sepal_width</th>\n      <th>petal_length</th>\n      <th>petal_width</th>\n    </tr>\n  </thead>\n  <tbody>\n    <tr>\n      <td>count</td>\n      <td>1.500000e+02</td>\n      <td>1.500000e+02</td>\n      <td>1.500000e+02</td>\n      <td>1.500000e+02</td>\n    </tr>\n    <tr>\n      <td>mean</td>\n      <td>-9.269437e-16</td>\n      <td>1.253627e-16</td>\n      <td>3.278859e-16</td>\n      <td>-7.164639e-16</td>\n    </tr>\n    <tr>\n      <td>std</td>\n      <td>1.000000e+00</td>\n      <td>1.000000e+00</td>\n      <td>1.000000e+00</td>\n      <td>1.000000e+00</td>\n    </tr>\n    <tr>\n      <td>min</td>\n      <td>-1.863780e+00</td>\n      <td>-2.430844e+00</td>\n      <td>-1.563497e+00</td>\n      <td>-1.439627e+00</td>\n    </tr>\n    <tr>\n      <td>25%</td>\n      <td>-8.976739e-01</td>\n      <td>-5.858010e-01</td>\n      <td>-1.223442e+00</td>\n      <td>-1.177559e+00</td>\n    </tr>\n    <tr>\n      <td>50%</td>\n      <td>-5.233076e-02</td>\n      <td>-1.245404e-01</td>\n      <td>3.351431e-01</td>\n      <td>1.327811e-01</td>\n    </tr>\n    <tr>\n      <td>75%</td>\n      <td>6.722490e-01</td>\n      <td>5.673506e-01</td>\n      <td>7.602119e-01</td>\n      <td>7.879511e-01</td>\n    </tr>\n    <tr>\n      <td>max</td>\n      <td>2.483699e+00</td>\n      <td>3.104284e+00</td>\n      <td>1.780377e+00</td>\n      <td>1.705189e+00</td>\n    </tr>\n  </tbody>\n</table>\n</div>",
      "text/plain": "       sepal_length   sepal_width  petal_length   petal_width\ncount  1.500000e+02  1.500000e+02  1.500000e+02  1.500000e+02\nmean  -9.269437e-16  1.253627e-16  3.278859e-16 -7.164639e-16\nstd    1.000000e+00  1.000000e+00  1.000000e+00  1.000000e+00\nmin   -1.863780e+00 -2.430844e+00 -1.563497e+00 -1.439627e+00\n25%   -8.976739e-01 -5.858010e-01 -1.223442e+00 -1.177559e+00\n50%   -5.233076e-02 -1.245404e-01  3.351431e-01  1.327811e-01\n75%    6.722490e-01  5.673506e-01  7.602119e-01  7.879511e-01\nmax    2.483699e+00  3.104284e+00  1.780377e+00  1.705189e+00"
     },
     "execution_count": 12,
     "metadata": {},
     "output_type": "execute_result"
    }
   ],
   "source": [
    "\n",
    "iris = iris.apply(lambda x: (x - x.mean()) / x.std() , axis = 0)\n",
    "iris.describe()"
   ]
  },
  {
   "cell_type": "code",
   "execution_count": null,
   "metadata": {},
   "outputs": [],
   "source": []
  }
 ]
}