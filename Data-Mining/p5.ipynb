{
 "nbformat": 4,
 "nbformat_minor": 2,
 "metadata": {
  "language_info": {
   "name": "python",
   "codemirror_mode": {
    "name": "ipython",
    "version": 3
   },
   "version": "3.8.1-final"
  },
  "orig_nbformat": 2,
  "file_extension": ".py",
  "mimetype": "text/x-python",
  "name": "python",
  "npconvert_exporter": "python",
  "pygments_lexer": "ipython3",
  "version": 3,
  "kernelspec": {
   "name": "python38164bit64ff8a274fa54b76bc343ab19bab2a71",
   "display_name": "Python 3.8.1 64-bit"
  }
 },
 "cells": [
  {
   "cell_type": "code",
   "execution_count": 1,
   "metadata": {},
   "outputs": [],
   "source": [
    "from sklearn.datasets import load_breast_cancer\n",
    "from sklearn.model_selection import train_test_split,cross_val_score\n",
    "from sklearn.naive_bayes import GaussianNB\n",
    "from sklearn.neighbors import KNeighborsClassifier\n",
    "from sklearn.tree import DecisionTreeClassifier\n",
    "from sklearn.metrics import accuracy_score,confusion_matrix\n",
    "from sklearn.preprocessing import scale\n",
    "import numpy as np\n",
    "import pandas as pd"
   ]
  },
  {
   "cell_type": "code",
   "execution_count": 16,
   "metadata": {},
   "outputs": [],
   "source": [
    "cancer = load_breast_cancer()\n",
    "X_cancer = cancer.data\n",
    "Y_cancer = cancer.target\n",
    "X_cancer = scale(X_cancer)"
   ]
  },
  {
   "cell_type": "code",
   "execution_count": 17,
   "metadata": {},
   "outputs": [],
   "source": [
    "abalone = pd.read_csv('abalone.csv')\n",
    "X_abalone = abalone.iloc[:, :-1]\n",
    "X_abalone = pd.get_dummies(X_abalone)\n",
    "Y_abalone = abalone['Rings']\n",
    "X_abalone = scale(X_abalone)"
   ]
  },
  {
   "cell_type": "code",
   "execution_count": 4,
   "metadata": {},
   "outputs": [],
   "source": [
    "character_X_test = pd.read_csv('x_test', sep=' ', header=None)\n",
    "character_X_train = pd.read_csv('x_train', sep=' ', header=None)\n",
    "character_X_train.drop(character_X_train.columns[-1], axis=1, inplace=True)\n",
    "character_X_test.drop(character_X_test.columns[-1], axis=1, inplace=True)\n",
    "\n",
    "X_character = character_X_train.append(character_X_test)\n",
    "\n",
    "character_Y_test = pd.read_csv('y_test', sep=' ', header=None)\n",
    "character_Y_train = pd.read_csv('y_train', sep=' ', header=None)\n",
    "\n",
    "Y_character = character_Y_train.append(character_Y_test)\n",
    "Y_character = Y_character.idxmax(axis = 1)\n",
    ""
   ]
  },
  {
   "cell_type": "code",
   "execution_count": 5,
   "metadata": {},
   "outputs": [],
   "source": [
    "def model(X, Y, test, iteration, classifier):\n",
    "    accuracy = np.array([])\n",
    "    for i in range(iteration):\n",
    "        X_train, X_test, Y_train, Y_test = train_test_split(X, Y, test_size = test)\n",
    "        classifier.fit(X_train, Y_train)\n",
    "        Y_pred = classifier.predict(X_test)\n",
    "        accuracy = np.append(accuracy, accuracy_score(Y_test, Y_pred)*100)\n",
    "    \n",
    "    accuracy = np.mean(accuracy)\n",
    "    #matrix = confusion_matrix(Y_test, Y_pred)\n",
    "\n",
    "    return accuracy\n",
    ""
   ]
  },
  {
   "cell_type": "code",
   "execution_count": 6,
   "metadata": {},
   "outputs": [],
   "source": [
    "def validate_model(X, Y, test, classifier):\n",
    "\n",
    "    accuracy = cross_val_score(classifier, X, Y, cv= int(1/test)).mean() *100\n",
    "    \n",
    "    #matrix = confusion_matrix(Y_test, Y_pred)\n",
    "\n",
    "    return accuracy\n",
    ""
   ]
  },
  {
   "cell_type": "code",
   "execution_count": 7,
   "metadata": {},
   "outputs": [],
   "source": [
    "classifier = {'NaiveBayes' : GaussianNB(), 'KNN': KNeighborsClassifier(3), 'DecisionTree' : DecisionTreeClassifier()}\n",
    "dataset = {'Breast_Cancer' : [X_cancer, Y_cancer], 'Abalone' : [X_abalone, Y_abalone], 'Charcter' : [X_character , Y_character]}\n",
    "\n",
    "df_holdout1 = pd.DataFrame(np.empty([3, 3]), columns=dataset.keys(), index=classifier.keys())\n",
    "df_holdout2 = pd.DataFrame(np.empty([3, 3]), columns=dataset.keys(), index=classifier.keys())\n",
    "df_random1 = pd.DataFrame(np.empty([3, 3]), columns=dataset.keys(), index=classifier.keys())\n",
    "df_random2 = pd.DataFrame(np.empty([3, 3]), columns=dataset.keys(), index=classifier.keys())\n",
    "df_validate1 = pd.DataFrame(np.empty([3, 3]), columns=dataset.keys(), index=classifier.keys())\n",
    "df_validate2 = pd.DataFrame(np.empty([3, 3]), columns=dataset.keys(), index=classifier.keys())\n",
    "\n",
    "test = {0.25 : [df_holdout1, df_random1, df_validate1] , 0.33 : [df_holdout2, df_random2, df_validate2]}\n",
    "\n",
    "for k_key,k_value in test.items():\n",
    "    for i_key,i_value in classifier.items():\n",
    "        for j_key, j_value in dataset.items():\n",
    "            k_value[0].loc[i_key, j_key] = model(j_value[0], j_value[1], k_key, 1, i_value)\n",
    "            k_value[1].loc[i_key, j_key] = model(j_value[0], j_value[1], k_key, 10, i_value)\n",
    "            k_value[2].loc[i_key, j_key] = validate_model(j_value[0], j_value[1], k_key, i_value)"
   ]
  },
  {
   "cell_type": "code",
   "execution_count": 8,
   "metadata": {},
   "outputs": [
    {
     "output_type": "execute_result",
     "data": {
      "text/plain": "              Breast_Cancer    Abalone   Charcter\nNaiveBayes        93.706294  11.100478  83.259259\nKNN               97.202797  18.086124  91.629630\nDecisionTree      95.104895  19.330144  96.666667",
      "text/html": "<div>\n<style scoped>\n    .dataframe tbody tr th:only-of-type {\n        vertical-align: middle;\n    }\n\n    .dataframe tbody tr th {\n        vertical-align: top;\n    }\n\n    .dataframe thead th {\n        text-align: right;\n    }\n</style>\n<table border=\"1\" class=\"dataframe\">\n  <thead>\n    <tr style=\"text-align: right;\">\n      <th></th>\n      <th>Breast_Cancer</th>\n      <th>Abalone</th>\n      <th>Charcter</th>\n    </tr>\n  </thead>\n  <tbody>\n    <tr>\n      <th>NaiveBayes</th>\n      <td>93.706294</td>\n      <td>11.100478</td>\n      <td>83.259259</td>\n    </tr>\n    <tr>\n      <th>KNN</th>\n      <td>97.202797</td>\n      <td>18.086124</td>\n      <td>91.629630</td>\n    </tr>\n    <tr>\n      <th>DecisionTree</th>\n      <td>95.104895</td>\n      <td>19.330144</td>\n      <td>96.666667</td>\n    </tr>\n  </tbody>\n</table>\n</div>"
     },
     "metadata": {},
     "execution_count": 8
    }
   ],
   "source": [
    "df_holdout1"
   ]
  },
  {
   "cell_type": "code",
   "execution_count": 9,
   "metadata": {},
   "outputs": [
    {
     "output_type": "execute_result",
     "data": {
      "text/plain": "              Breast_Cancer    Abalone   Charcter\nNaiveBayes        95.212766  11.312545  83.221100\nKNN               96.276596  23.132705  91.638608\nDecisionTree      93.085106  20.377085  96.913580",
      "text/html": "<div>\n<style scoped>\n    .dataframe tbody tr th:only-of-type {\n        vertical-align: middle;\n    }\n\n    .dataframe tbody tr th {\n        vertical-align: top;\n    }\n\n    .dataframe thead th {\n        text-align: right;\n    }\n</style>\n<table border=\"1\" class=\"dataframe\">\n  <thead>\n    <tr style=\"text-align: right;\">\n      <th></th>\n      <th>Breast_Cancer</th>\n      <th>Abalone</th>\n      <th>Charcter</th>\n    </tr>\n  </thead>\n  <tbody>\n    <tr>\n      <th>NaiveBayes</th>\n      <td>95.212766</td>\n      <td>11.312545</td>\n      <td>83.221100</td>\n    </tr>\n    <tr>\n      <th>KNN</th>\n      <td>96.276596</td>\n      <td>23.132705</td>\n      <td>91.638608</td>\n    </tr>\n    <tr>\n      <th>DecisionTree</th>\n      <td>93.085106</td>\n      <td>20.377085</td>\n      <td>96.913580</td>\n    </tr>\n  </tbody>\n</table>\n</div>"
     },
     "metadata": {},
     "execution_count": 9
    }
   ],
   "source": [
    "df_holdout2"
   ]
  },
  {
   "cell_type": "code",
   "execution_count": 10,
   "metadata": {},
   "outputs": [
    {
     "output_type": "execute_result",
     "data": {
      "text/plain": "              Breast_Cancer    Abalone   Charcter\nNaiveBayes        93.636364  10.411483  82.888889\nKNN               96.643357  20.574163  91.940741\nDecisionTree      93.356643  19.244019  96.866667",
      "text/html": "<div>\n<style scoped>\n    .dataframe tbody tr th:only-of-type {\n        vertical-align: middle;\n    }\n\n    .dataframe tbody tr th {\n        vertical-align: top;\n    }\n\n    .dataframe thead th {\n        text-align: right;\n    }\n</style>\n<table border=\"1\" class=\"dataframe\">\n  <thead>\n    <tr style=\"text-align: right;\">\n      <th></th>\n      <th>Breast_Cancer</th>\n      <th>Abalone</th>\n      <th>Charcter</th>\n    </tr>\n  </thead>\n  <tbody>\n    <tr>\n      <th>NaiveBayes</th>\n      <td>93.636364</td>\n      <td>10.411483</td>\n      <td>82.888889</td>\n    </tr>\n    <tr>\n      <th>KNN</th>\n      <td>96.643357</td>\n      <td>20.574163</td>\n      <td>91.940741</td>\n    </tr>\n    <tr>\n      <th>DecisionTree</th>\n      <td>93.356643</td>\n      <td>19.244019</td>\n      <td>96.866667</td>\n    </tr>\n  </tbody>\n</table>\n</div>"
     },
     "metadata": {},
     "execution_count": 10
    }
   ],
   "source": [
    "df_random1"
   ]
  },
  {
   "cell_type": "code",
   "execution_count": 11,
   "metadata": {},
   "outputs": [
    {
     "output_type": "execute_result",
     "data": {
      "text/plain": "              Breast_Cancer    Abalone   Charcter\nNaiveBayes        92.606383   9.963742  82.805836\nKNN               96.542553  20.623640  91.487093\nDecisionTree      92.978723  20.471356  96.548822",
      "text/html": "<div>\n<style scoped>\n    .dataframe tbody tr th:only-of-type {\n        vertical-align: middle;\n    }\n\n    .dataframe tbody tr th {\n        vertical-align: top;\n    }\n\n    .dataframe thead th {\n        text-align: right;\n    }\n</style>\n<table border=\"1\" class=\"dataframe\">\n  <thead>\n    <tr style=\"text-align: right;\">\n      <th></th>\n      <th>Breast_Cancer</th>\n      <th>Abalone</th>\n      <th>Charcter</th>\n    </tr>\n  </thead>\n  <tbody>\n    <tr>\n      <th>NaiveBayes</th>\n      <td>92.606383</td>\n      <td>9.963742</td>\n      <td>82.805836</td>\n    </tr>\n    <tr>\n      <th>KNN</th>\n      <td>96.542553</td>\n      <td>20.623640</td>\n      <td>91.487093</td>\n    </tr>\n    <tr>\n      <th>DecisionTree</th>\n      <td>92.978723</td>\n      <td>20.471356</td>\n      <td>96.548822</td>\n    </tr>\n  </tbody>\n</table>\n</div>"
     },
     "metadata": {},
     "execution_count": 11
    }
   ],
   "source": [
    "df_random2"
   ]
  },
  {
   "cell_type": "code",
   "execution_count": 12,
   "metadata": {},
   "outputs": [
    {
     "output_type": "execute_result",
     "data": {
      "text/plain": "              Breast_Cancer    Abalone   Charcter\nNaiveBayes        92.974983  10.390864  82.925926\nKNN               96.485029  20.446021  91.592593\nDecisionTree      91.040825  19.344397  96.888889",
      "text/html": "<div>\n<style scoped>\n    .dataframe tbody tr th:only-of-type {\n        vertical-align: middle;\n    }\n\n    .dataframe tbody tr th {\n        vertical-align: top;\n    }\n\n    .dataframe thead th {\n        text-align: right;\n    }\n</style>\n<table border=\"1\" class=\"dataframe\">\n  <thead>\n    <tr style=\"text-align: right;\">\n      <th></th>\n      <th>Breast_Cancer</th>\n      <th>Abalone</th>\n      <th>Charcter</th>\n    </tr>\n  </thead>\n  <tbody>\n    <tr>\n      <th>NaiveBayes</th>\n      <td>92.974983</td>\n      <td>10.390864</td>\n      <td>82.925926</td>\n    </tr>\n    <tr>\n      <th>KNN</th>\n      <td>96.485029</td>\n      <td>20.446021</td>\n      <td>91.592593</td>\n    </tr>\n    <tr>\n      <th>DecisionTree</th>\n      <td>91.040825</td>\n      <td>19.344397</td>\n      <td>96.888889</td>\n    </tr>\n  </tbody>\n</table>\n</div>"
     },
     "metadata": {},
     "execution_count": 12
    }
   ],
   "source": [
    "df_validate1"
   ]
  },
  {
   "cell_type": "code",
   "execution_count": 13,
   "metadata": {},
   "outputs": [
    {
     "output_type": "execute_result",
     "data": {
      "text/plain": "              Breast_Cancer    Abalone   Charcter\nNaiveBayes        92.970389  10.294992  82.648148\nKNN               95.955630  20.660895  91.111111\nDecisionTree      89.974937  19.320432  96.796296",
      "text/html": "<div>\n<style scoped>\n    .dataframe tbody tr th:only-of-type {\n        vertical-align: middle;\n    }\n\n    .dataframe tbody tr th {\n        vertical-align: top;\n    }\n\n    .dataframe thead th {\n        text-align: right;\n    }\n</style>\n<table border=\"1\" class=\"dataframe\">\n  <thead>\n    <tr style=\"text-align: right;\">\n      <th></th>\n      <th>Breast_Cancer</th>\n      <th>Abalone</th>\n      <th>Charcter</th>\n    </tr>\n  </thead>\n  <tbody>\n    <tr>\n      <th>NaiveBayes</th>\n      <td>92.970389</td>\n      <td>10.294992</td>\n      <td>82.648148</td>\n    </tr>\n    <tr>\n      <th>KNN</th>\n      <td>95.955630</td>\n      <td>20.660895</td>\n      <td>91.111111</td>\n    </tr>\n    <tr>\n      <th>DecisionTree</th>\n      <td>89.974937</td>\n      <td>19.320432</td>\n      <td>96.796296</td>\n    </tr>\n  </tbody>\n</table>\n</div>"
     },
     "metadata": {},
     "execution_count": 13
    }
   ],
   "source": [
    "df_validate2"
   ]
  }
 ]
}