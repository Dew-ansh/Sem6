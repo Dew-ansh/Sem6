{
 "nbformat": 4,
 "nbformat_minor": 2,
 "metadata": {
  "language_info": {
   "name": "python",
   "codemirror_mode": {
    "name": "ipython",
    "version": 3
   },
   "version": "3.7.4-final"
  },
  "orig_nbformat": 2,
  "file_extension": ".py",
  "mimetype": "text/x-python",
  "name": "python",
  "npconvert_exporter": "python",
  "pygments_lexer": "ipython3",
  "version": 3,
  "kernelspec": {
   "name": "python37464bitbasecondafbc5b514af964a75a82a492c172bfb05",
   "display_name": "Python 3.7.4 64-bit ('base': conda)"
  }
 },
 "cells": [
  {
   "cell_type": "code",
   "execution_count": 290,
   "metadata": {},
   "outputs": [],
   "source": [
    "from sklearn.datasets import load_breast_cancer\n",
    "from sklearn.model_selection import train_test_split,cross_val_score\n",
    "from sklearn.naive_bayes import GaussianNB\n",
    "from sklearn.neighbors import KNeighborsClassifier\n",
    "from sklearn.tree import DecisionTreeClassifier\n",
    "from sklearn.metrics import accuracy_score,confusion_matrix\n",
    "from sklearn.preprocessing import scale\n",
    "import numpy as np\n",
    "import pandas as pd"
   ]
  },
  {
   "cell_type": "code",
   "execution_count": 291,
   "metadata": {},
   "outputs": [],
   "source": [
    "cancer = load_breast_cancer()\n",
    "X_cancer = cancer.data\n",
    "Y_cancer = cancer.target\n",
    "X_cancer = scale(X_cancer)"
   ]
  },
  {
   "cell_type": "code",
   "execution_count": 292,
   "metadata": {},
   "outputs": [],
   "source": [
    "abalone = pd.read_csv('abalone.csv')\n",
    "X_abalone = abalone.iloc[:, :-1]\n",
    "X_abalone = pd.get_dummies(X_abalone)\n",
    "Y_abalone = abalone['Rings']\n",
    "X_abalone = scale(X_abalone)\n"
   ]
  },
  {
   "cell_type": "code",
   "execution_count": 293,
   "metadata": {},
   "outputs": [],
   "source": [
    "character_X_test = pd.read_csv('x_test', sep=' ', header=None)\n",
    "character_X_train = pd.read_csv('x_train', sep=' ', header=None)\n",
    "character_X_train.drop(character_X_train.columns[-1], axis=1, inplace=True)\n",
    "character_X_test.drop(character_X_test.columns[-1], axis=1, inplace=True)\n",
    "\n",
    "X_character = character_X_train.append(character_X_test)\n",
    "\n",
    "character_Y_test = pd.read_csv('y_test', sep=' ', header=None)\n",
    "character_Y_train = pd.read_csv('y_train', sep=' ', header=None)\n",
    "\n",
    "Y_character = character_Y_train.append(character_Y_test)\n",
    "Y_character = Y_character.idxmax(axis = 1)\n"
   ]
  },
  {
   "cell_type": "code",
   "execution_count": 294,
   "metadata": {},
   "outputs": [],
   "source": [
    "def model(X, Y, test, iteration, classifier):\n",
    "    accuracy = np.array([])\n",
    "    for i in range(iteration):\n",
    "        X_train, X_test, Y_train, Y_test = train_test_split(X, Y, test_size = test)\n",
    "        classifier.fit(X_train, Y_train)\n",
    "        Y_pred = classifier.predict(X_test)\n",
    "        accuracy = np.append(accuracy, accuracy_score(Y_test, Y_pred)*100)\n",
    "    \n",
    "    accuracy = np.mean(accuracy)\n",
    "    #matrix = confusion_matrix(Y_test, Y_pred)\n",
    "\n",
    "    return accuracy\n"
   ]
  },
  {
   "cell_type": "code",
   "execution_count": 295,
   "metadata": {},
   "outputs": [],
   "source": [
    "def validate_model(X, Y, test, classifier):\n",
    "\n",
    "    accuracy = cross_val_score(classifier, X, Y, cv= int(1/test)).mean() *100\n",
    "    \n",
    "    #matrix = confusion_matrix(Y_test, Y_pred)\n",
    "\n",
    "    return accuracy\n"
   ]
  },
  {
   "cell_type": "code",
   "execution_count": 296,
   "metadata": {},
   "outputs": [],
   "source": [
    "classifier = {'NaiveBayes' : GaussianNB(), 'KNN': KNeighborsClassifier(3), 'DecisionTree' : DecisionTreeClassifier()}\n",
    "dataset = {'Breast_Cancer' : [X_cancer, Y_cancer], 'Abalone' : [X_abalone, Y_abalone], 'Charcter' : [X_character , Y_character]}\n",
    "\n",
    "df_holdout1 = pd.DataFrame(np.empty([3, 3]), columns=dataset.keys(), index=classifier.keys())\n",
    "df_holdout2 = pd.DataFrame(np.empty([3, 3]), columns=dataset.keys(), index=classifier.keys())\n",
    "df_random1 = pd.DataFrame(np.empty([3, 3]), columns=dataset.keys(), index=classifier.keys())\n",
    "df_random2 = pd.DataFrame(np.empty([3, 3]), columns=dataset.keys(), index=classifier.keys())\n",
    "df_validate1 = pd.DataFrame(np.empty([3, 3]), columns=dataset.keys(), index=classifier.keys())\n",
    "df_validate2 = pd.DataFrame(np.empty([3, 3]), columns=dataset.keys(), index=classifier.keys())\n",
    "\n",
    "test = {0.25 : [df_holdout1, df_random1, df_validate1] , 0.33 : [df_holdout2, df_random2, df_validate2]}\n",
    "\n",
    "for k_key,k_value in test.items():\n",
    "    for i_key,i_value in classifier.items():\n",
    "        for j_key, j_value in dataset.items():\n",
    "            k_value[0].loc[i_key, j_key] = model(j_value[0], j_value[1], k_key, 1, i_value)\n",
    "            k_value[1].loc[i_key, j_key] = model(j_value[0], j_value[1], k_key, 10, i_value)\n",
    "            k_value[2].loc[i_key, j_key] = validate_model(j_value[0], j_value[1], k_key, i_value)"
   ]
  },
  {
   "cell_type": "code",
   "execution_count": 297,
   "metadata": {},
   "outputs": [
    {
     "data": {
      "text/html": "<div>\n<style scoped>\n    .dataframe tbody tr th:only-of-type {\n        vertical-align: middle;\n    }\n\n    .dataframe tbody tr th {\n        vertical-align: top;\n    }\n\n    .dataframe thead th {\n        text-align: right;\n    }\n</style>\n<table border=\"1\" class=\"dataframe\">\n  <thead>\n    <tr style=\"text-align: right;\">\n      <th></th>\n      <th>Breast_Cancer</th>\n      <th>Abalone</th>\n      <th>Charcter</th>\n    </tr>\n  </thead>\n  <tbody>\n    <tr>\n      <td>NaiveBayes</td>\n      <td>95.804196</td>\n      <td>10.622010</td>\n      <td>83.037037</td>\n    </tr>\n    <tr>\n      <td>KNN</td>\n      <td>98.601399</td>\n      <td>20.765550</td>\n      <td>92.296296</td>\n    </tr>\n    <tr>\n      <td>DecisionTree</td>\n      <td>93.706294</td>\n      <td>20.861244</td>\n      <td>96.888889</td>\n    </tr>\n  </tbody>\n</table>\n</div>",
      "text/plain": "              Breast_Cancer    Abalone   Charcter\nNaiveBayes        95.804196  10.622010  83.037037\nKNN               98.601399  20.765550  92.296296\nDecisionTree      93.706294  20.861244  96.888889"
     },
     "execution_count": 297,
     "metadata": {},
     "output_type": "execute_result"
    }
   ],
   "source": [
    "df_holdout1"
   ]
  },
  {
   "cell_type": "code",
   "execution_count": 298,
   "metadata": {},
   "outputs": [
    {
     "data": {
      "text/html": "<div>\n<style scoped>\n    .dataframe tbody tr th:only-of-type {\n        vertical-align: middle;\n    }\n\n    .dataframe tbody tr th {\n        vertical-align: top;\n    }\n\n    .dataframe thead th {\n        text-align: right;\n    }\n</style>\n<table border=\"1\" class=\"dataframe\">\n  <thead>\n    <tr style=\"text-align: right;\">\n      <th></th>\n      <th>Breast_Cancer</th>\n      <th>Abalone</th>\n      <th>Charcter</th>\n    </tr>\n  </thead>\n  <tbody>\n    <tr>\n      <td>NaiveBayes</td>\n      <td>89.893617</td>\n      <td>9.862219</td>\n      <td>82.267116</td>\n    </tr>\n    <tr>\n      <td>KNN</td>\n      <td>95.744681</td>\n      <td>22.842640</td>\n      <td>91.189675</td>\n    </tr>\n    <tr>\n      <td>DecisionTree</td>\n      <td>92.021277</td>\n      <td>21.174764</td>\n      <td>97.362514</td>\n    </tr>\n  </tbody>\n</table>\n</div>",
      "text/plain": "              Breast_Cancer    Abalone   Charcter\nNaiveBayes        89.893617   9.862219  82.267116\nKNN               95.744681  22.842640  91.189675\nDecisionTree      92.021277  21.174764  97.362514"
     },
     "execution_count": 298,
     "metadata": {},
     "output_type": "execute_result"
    }
   ],
   "source": [
    "df_holdout2"
   ]
  },
  {
   "cell_type": "code",
   "execution_count": 299,
   "metadata": {},
   "outputs": [
    {
     "data": {
      "text/html": "<div>\n<style scoped>\n    .dataframe tbody tr th:only-of-type {\n        vertical-align: middle;\n    }\n\n    .dataframe tbody tr th {\n        vertical-align: top;\n    }\n\n    .dataframe thead th {\n        text-align: right;\n    }\n</style>\n<table border=\"1\" class=\"dataframe\">\n  <thead>\n    <tr style=\"text-align: right;\">\n      <th></th>\n      <th>Breast_Cancer</th>\n      <th>Abalone</th>\n      <th>Charcter</th>\n    </tr>\n  </thead>\n  <tbody>\n    <tr>\n      <td>NaiveBayes</td>\n      <td>93.006993</td>\n      <td>10.411483</td>\n      <td>82.222222</td>\n    </tr>\n    <tr>\n      <td>KNN</td>\n      <td>96.713287</td>\n      <td>20.086124</td>\n      <td>91.392593</td>\n    </tr>\n    <tr>\n      <td>DecisionTree</td>\n      <td>91.678322</td>\n      <td>19.454545</td>\n      <td>96.933333</td>\n    </tr>\n  </tbody>\n</table>\n</div>",
      "text/plain": "              Breast_Cancer    Abalone   Charcter\nNaiveBayes        93.006993  10.411483  82.222222\nKNN               96.713287  20.086124  91.392593\nDecisionTree      91.678322  19.454545  96.933333"
     },
     "execution_count": 299,
     "metadata": {},
     "output_type": "execute_result"
    }
   ],
   "source": [
    "df_random1"
   ]
  },
  {
   "cell_type": "code",
   "execution_count": 300,
   "metadata": {},
   "outputs": [
    {
     "data": {
      "text/html": "<div>\n<style scoped>\n    .dataframe tbody tr th:only-of-type {\n        vertical-align: middle;\n    }\n\n    .dataframe tbody tr th {\n        vertical-align: top;\n    }\n\n    .dataframe thead th {\n        text-align: right;\n    }\n</style>\n<table border=\"1\" class=\"dataframe\">\n  <thead>\n    <tr style=\"text-align: right;\">\n      <th></th>\n      <th>Breast_Cancer</th>\n      <th>Abalone</th>\n      <th>Charcter</th>\n    </tr>\n  </thead>\n  <tbody>\n    <tr>\n      <td>NaiveBayes</td>\n      <td>94.361702</td>\n      <td>10.478608</td>\n      <td>82.227834</td>\n    </tr>\n    <tr>\n      <td>KNN</td>\n      <td>96.436170</td>\n      <td>20.065265</td>\n      <td>90.965208</td>\n    </tr>\n    <tr>\n      <td>DecisionTree</td>\n      <td>93.031915</td>\n      <td>20.174039</td>\n      <td>96.694725</td>\n    </tr>\n  </tbody>\n</table>\n</div>",
      "text/plain": "              Breast_Cancer    Abalone   Charcter\nNaiveBayes        94.361702  10.478608  82.227834\nKNN               96.436170  20.065265  90.965208\nDecisionTree      93.031915  20.174039  96.694725"
     },
     "execution_count": 300,
     "metadata": {},
     "output_type": "execute_result"
    }
   ],
   "source": [
    "df_random2"
   ]
  },
  {
   "cell_type": "code",
   "execution_count": 301,
   "metadata": {},
   "outputs": [
    {
     "data": {
      "text/html": "<div>\n<style scoped>\n    .dataframe tbody tr th:only-of-type {\n        vertical-align: middle;\n    }\n\n    .dataframe tbody tr th {\n        vertical-align: top;\n    }\n\n    .dataframe thead th {\n        text-align: right;\n    }\n</style>\n<table border=\"1\" class=\"dataframe\">\n  <thead>\n    <tr style=\"text-align: right;\">\n      <th></th>\n      <th>Breast_Cancer</th>\n      <th>Abalone</th>\n      <th>Charcter</th>\n    </tr>\n  </thead>\n  <tbody>\n    <tr>\n      <td>NaiveBayes</td>\n      <td>92.974983</td>\n      <td>10.205745</td>\n      <td>82.925926</td>\n    </tr>\n    <tr>\n      <td>KNN</td>\n      <td>96.485029</td>\n      <td>20.528196</td>\n      <td>91.592593</td>\n    </tr>\n    <tr>\n      <td>DecisionTree</td>\n      <td>91.394169</td>\n      <td>19.114804</td>\n      <td>96.722222</td>\n    </tr>\n  </tbody>\n</table>\n</div>",
      "text/plain": "              Breast_Cancer    Abalone   Charcter\nNaiveBayes        92.974983  10.205745  82.925926\nKNN               96.485029  20.528196  91.592593\nDecisionTree      91.394169  19.114804  96.722222"
     },
     "execution_count": 301,
     "metadata": {},
     "output_type": "execute_result"
    }
   ],
   "source": [
    "df_validate1"
   ]
  },
  {
   "cell_type": "code",
   "execution_count": 302,
   "metadata": {},
   "outputs": [
    {
     "data": {
      "text/html": "<div>\n<style scoped>\n    .dataframe tbody tr th:only-of-type {\n        vertical-align: middle;\n    }\n\n    .dataframe tbody tr th {\n        vertical-align: top;\n    }\n\n    .dataframe thead th {\n        text-align: right;\n    }\n</style>\n<table border=\"1\" class=\"dataframe\">\n  <thead>\n    <tr style=\"text-align: right;\">\n      <th></th>\n      <th>Breast_Cancer</th>\n      <th>Abalone</th>\n      <th>Charcter</th>\n    </tr>\n  </thead>\n  <tbody>\n    <tr>\n      <td>NaiveBayes</td>\n      <td>92.970389</td>\n      <td>10.207620</td>\n      <td>82.648148</td>\n    </tr>\n    <tr>\n      <td>KNN</td>\n      <td>95.955630</td>\n      <td>20.711904</td>\n      <td>91.111111</td>\n    </tr>\n    <tr>\n      <td>DecisionTree</td>\n      <td>89.097744</td>\n      <td>19.923837</td>\n      <td>96.574074</td>\n    </tr>\n  </tbody>\n</table>\n</div>",
      "text/plain": "              Breast_Cancer    Abalone   Charcter\nNaiveBayes        92.970389  10.207620  82.648148\nKNN               95.955630  20.711904  91.111111\nDecisionTree      89.097744  19.923837  96.574074"
     },
     "execution_count": 302,
     "metadata": {},
     "output_type": "execute_result"
    }
   ],
   "source": [
    "df_validate2"
   ]
  }
 ]
}