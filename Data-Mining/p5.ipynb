{
 "nbformat": 4,
 "nbformat_minor": 2,
 "metadata": {
  "language_info": {
   "name": "python",
   "codemirror_mode": {
    "name": "ipython",
    "version": 3
   },
   "version": "3.7.4-final"
  },
  "orig_nbformat": 2,
  "file_extension": ".py",
  "mimetype": "text/x-python",
  "name": "python",
  "npconvert_exporter": "python",
  "pygments_lexer": "ipython3",
  "version": 3,
  "kernelspec": {
   "name": "python37464bitbasecondafbc5b514af964a75a82a492c172bfb05",
   "display_name": "Python 3.7.4 64-bit ('base': conda)"
  }
 },
 "cells": [
  {
   "cell_type": "code",
   "execution_count": 74,
   "metadata": {},
   "outputs": [],
   "source": [
    "from sklearn.datasets import load_breast_cancer\n",
    "from sklearn.model_selection import train_test_split,cross_val_score\n",
    "from sklearn.naive_bayes import GaussianNB\n",
    "from sklearn.neighbors import KNeighborsClassifier\n",
    "from sklearn.tree import DecisionTreeClassifier\n",
    "from sklearn.metrics import accuracy_score,confusion_matrix\n",
    "from sklearn.preprocessing import scale\n",
    "import numpy as np\n",
    "import pandas as pd"
   ]
  },
  {
   "cell_type": "code",
   "execution_count": 75,
   "metadata": {},
   "outputs": [],
   "source": [
    "cancer = load_breast_cancer()\n",
    "X_cancer = cancer.data\n",
    "Y_cancer = cancer.target\n",
    "X_cancer = scale(X_cancer)"
   ]
  },
  {
   "cell_type": "code",
   "execution_count": 76,
   "metadata": {},
   "outputs": [],
   "source": [
    "abalone = pd.read_csv('abalone.csv')\n",
    "X_abalone = abalone.iloc[:, :-1]\n",
    "X_abalone = pd.get_dummies(X_abalone)\n",
    "Y_abalone = abalone['Rings'].T\n",
    "X_abalone = scale(X_abalone)\n"
   ]
  },
  {
   "cell_type": "code",
   "execution_count": 92,
   "metadata": {},
   "outputs": [
    {
     "data": {
      "text/html": "<div>\n<style scoped>\n    .dataframe tbody tr th:only-of-type {\n        vertical-align: middle;\n    }\n\n    .dataframe tbody tr th {\n        vertical-align: top;\n    }\n\n    .dataframe thead th {\n        text-align: right;\n    }\n</style>\n<table border=\"1\" class=\"dataframe\">\n  <thead>\n    <tr style=\"text-align: right;\">\n      <th></th>\n      <th>0</th>\n      <th>1</th>\n      <th>2</th>\n      <th>3</th>\n      <th>4</th>\n      <th>5</th>\n      <th>6</th>\n      <th>7</th>\n      <th>8</th>\n      <th>9</th>\n    </tr>\n  </thead>\n  <tbody>\n    <tr>\n      <td>0</td>\n      <td>1</td>\n      <td>0</td>\n      <td>0</td>\n      <td>0</td>\n      <td>0</td>\n      <td>0</td>\n      <td>0</td>\n      <td>0</td>\n      <td>0</td>\n      <td>0</td>\n    </tr>\n    <tr>\n      <td>1</td>\n      <td>0</td>\n      <td>1</td>\n      <td>0</td>\n      <td>0</td>\n      <td>0</td>\n      <td>0</td>\n      <td>0</td>\n      <td>0</td>\n      <td>0</td>\n      <td>0</td>\n    </tr>\n    <tr>\n      <td>2</td>\n      <td>0</td>\n      <td>0</td>\n      <td>1</td>\n      <td>0</td>\n      <td>0</td>\n      <td>0</td>\n      <td>0</td>\n      <td>0</td>\n      <td>0</td>\n      <td>0</td>\n    </tr>\n    <tr>\n      <td>3</td>\n      <td>0</td>\n      <td>0</td>\n      <td>0</td>\n      <td>0</td>\n      <td>1</td>\n      <td>0</td>\n      <td>0</td>\n      <td>0</td>\n      <td>0</td>\n      <td>0</td>\n    </tr>\n    <tr>\n      <td>4</td>\n      <td>0</td>\n      <td>0</td>\n      <td>0</td>\n      <td>0</td>\n      <td>0</td>\n      <td>1</td>\n      <td>0</td>\n      <td>0</td>\n      <td>0</td>\n      <td>0</td>\n    </tr>\n    <tr>\n      <td>...</td>\n      <td>...</td>\n      <td>...</td>\n      <td>...</td>\n      <td>...</td>\n      <td>...</td>\n      <td>...</td>\n      <td>...</td>\n      <td>...</td>\n      <td>...</td>\n      <td>...</td>\n    </tr>\n    <tr>\n      <td>4495</td>\n      <td>0</td>\n      <td>0</td>\n      <td>0</td>\n      <td>0</td>\n      <td>0</td>\n      <td>1</td>\n      <td>0</td>\n      <td>0</td>\n      <td>0</td>\n      <td>0</td>\n    </tr>\n    <tr>\n      <td>4496</td>\n      <td>0</td>\n      <td>0</td>\n      <td>0</td>\n      <td>0</td>\n      <td>0</td>\n      <td>0</td>\n      <td>1</td>\n      <td>0</td>\n      <td>0</td>\n      <td>0</td>\n    </tr>\n    <tr>\n      <td>4497</td>\n      <td>0</td>\n      <td>0</td>\n      <td>0</td>\n      <td>0</td>\n      <td>0</td>\n      <td>0</td>\n      <td>0</td>\n      <td>0</td>\n      <td>1</td>\n      <td>0</td>\n    </tr>\n    <tr>\n      <td>4498</td>\n      <td>0</td>\n      <td>0</td>\n      <td>0</td>\n      <td>0</td>\n      <td>0</td>\n      <td>0</td>\n      <td>0</td>\n      <td>1</td>\n      <td>0</td>\n      <td>0</td>\n    </tr>\n    <tr>\n      <td>4499</td>\n      <td>0</td>\n      <td>0</td>\n      <td>0</td>\n      <td>0</td>\n      <td>0</td>\n      <td>0</td>\n      <td>0</td>\n      <td>0</td>\n      <td>0</td>\n      <td>1</td>\n    </tr>\n  </tbody>\n</table>\n<p>5400 rows × 10 columns</p>\n</div>",
      "text/plain": "      0  1  2  3  4  5  6  7  8  9\n0     1  0  0  0  0  0  0  0  0  0\n1     0  1  0  0  0  0  0  0  0  0\n2     0  0  1  0  0  0  0  0  0  0\n3     0  0  0  0  1  0  0  0  0  0\n4     0  0  0  0  0  1  0  0  0  0\n...  .. .. .. .. .. .. .. .. .. ..\n4495  0  0  0  0  0  1  0  0  0  0\n4496  0  0  0  0  0  0  1  0  0  0\n4497  0  0  0  0  0  0  0  0  1  0\n4498  0  0  0  0  0  0  0  1  0  0\n4499  0  0  0  0  0  0  0  0  0  1\n\n[5400 rows x 10 columns]"
     },
     "execution_count": 92,
     "metadata": {},
     "output_type": "execute_result"
    }
   ],
   "source": [
    "character_X_test = pd.read_csv('x_test', sep=' ', header=None)\n",
    "character_X_train = pd.read_csv('x_train', sep=' ', header=None)\n",
    "character_X_train.drop(character_X_train.columns[-1], axis=1, inplace=True)\n",
    "character_X_test.drop(character_X_test.columns[-1], axis=1, inplace=True)\n",
    "\n",
    "X_character = character_X_train.append(character_X_test)\n",
    "\n",
    "character_Y_test = pd.read_csv('y_test', sep=' ', header=None)\n",
    "character_Y_train = pd.read_csv('y_train', sep=' ', header=None)\n",
    "\n",
    "Y_character = character_Y_train.append(character_Y_test)\n",
    "\n",
    "Y_character"
   ]
  },
  {
   "cell_type": "code",
   "execution_count": 77,
   "metadata": {},
   "outputs": [],
   "source": [
    "def model(X, Y, test, iteration, classifier):\n",
    "    accuracy = np.array([])\n",
    "    for i in range(iteration):\n",
    "        X_train, X_test, Y_train, Y_test = train_test_split(X, Y, test_size = test)\n",
    "        classifier.fit(X_train, Y_train)\n",
    "        Y_pred = classifier.predict(X_test)\n",
    "        accuracy = np.append(accuracy, accuracy_score(Y_test, Y_pred)*100)\n",
    "    \n",
    "    accuracy = np.mean(accuracy)\n",
    "    #matrix = confusion_matrix(Y_test, Y_pred)\n",
    "\n",
    "    return accuracy\n"
   ]
  },
  {
   "cell_type": "code",
   "execution_count": 78,
   "metadata": {},
   "outputs": [],
   "source": [
    "def validate_model(X, Y, test, classifier):\n",
    "\n",
    "    score = cross_val_score(classifier, X, Y, cv= int(1/test))\n",
    "    accuracy = np.mean(score) * 100\n",
    "    \n",
    "    #matrix = confusion_matrix(Y_test, Y_pred)\n",
    "\n",
    "    return accuracy\n"
   ]
  },
  {
   "cell_type": "code",
   "execution_count": 79,
   "metadata": {},
   "outputs": [],
   "source": [
    "classifier = {'NaiveBayes' : GaussianNB(), 'KNN': KNeighborsClassifier(3), 'DecisionTree' : DecisionTreeClassifier()}\n",
    "dataset = {'Breast_Cancer' : [X_cancer, Y_cancer], 'Abalone' : [X_abalone, Y_abalone]}\n",
    "\n",
    "df_holdout1 = pd.DataFrame(np.empty([3, 2]), columns=dataset.keys(), index=classifier.keys())\n",
    "df_holdout2 = pd.DataFrame(np.empty([3, 2]), columns=dataset.keys(), index=classifier.keys())\n",
    "df_random1 = pd.DataFrame(np.empty([3, 2]), columns=dataset.keys(), index=classifier.keys())\n",
    "df_random2 = pd.DataFrame(np.empty([3, 2]), columns=dataset.keys(), index=classifier.keys())\n",
    "df_validate1 = pd.DataFrame(np.empty([3, 2]), columns=dataset.keys(), index=classifier.keys())\n",
    "df_validate2 = pd.DataFrame(np.empty([3, 2]), columns=dataset.keys(), index=classifier.keys())\n",
    "\n",
    "test = {0.25 : [df_holdout1, df_random1, df_validate1] , 0.33 : [df_holdout2, df_random2, df_validate2]}\n",
    "\n",
    "for k_key,k_value in test.items():\n",
    "    for i_key,i_value in classifier.items():\n",
    "        for j_key, j_value in dataset.items():\n",
    "            k_value[0].loc[i_key, j_key] = model(j_value[0], j_value[1], k_key, 1, i_value)\n",
    "            k_value[1].loc[i_key, j_key] = model(j_value[0], j_value[1], k_key, 10, i_value)\n",
    "            k_value[2].loc[i_key, j_key] = validate_model(j_value[0], j_value[1], k_key, i_value)"
   ]
  },
  {
   "cell_type": "code",
   "execution_count": 80,
   "metadata": {},
   "outputs": [
    {
     "data": {
      "text/html": "<div>\n<style scoped>\n    .dataframe tbody tr th:only-of-type {\n        vertical-align: middle;\n    }\n\n    .dataframe tbody tr th {\n        vertical-align: top;\n    }\n\n    .dataframe thead th {\n        text-align: right;\n    }\n</style>\n<table border=\"1\" class=\"dataframe\">\n  <thead>\n    <tr style=\"text-align: right;\">\n      <th></th>\n      <th>Breast_Cancer</th>\n      <th>Abalone</th>\n    </tr>\n  </thead>\n  <tbody>\n    <tr>\n      <td>NaiveBayes</td>\n      <td>97.902098</td>\n      <td>10.334928</td>\n    </tr>\n    <tr>\n      <td>KNN</td>\n      <td>99.300699</td>\n      <td>21.052632</td>\n    </tr>\n    <tr>\n      <td>DecisionTree</td>\n      <td>94.405594</td>\n      <td>22.200957</td>\n    </tr>\n  </tbody>\n</table>\n</div>",
      "text/plain": "              Breast_Cancer    Abalone\nNaiveBayes        97.902098  10.334928\nKNN               99.300699  21.052632\nDecisionTree      94.405594  22.200957"
     },
     "execution_count": 80,
     "metadata": {},
     "output_type": "execute_result"
    }
   ],
   "source": [
    "df_holdout1"
   ]
  },
  {
   "cell_type": "code",
   "execution_count": 81,
   "metadata": {},
   "outputs": [
    {
     "data": {
      "text/html": "<div>\n<style scoped>\n    .dataframe tbody tr th:only-of-type {\n        vertical-align: middle;\n    }\n\n    .dataframe tbody tr th {\n        vertical-align: top;\n    }\n\n    .dataframe thead th {\n        text-align: right;\n    }\n</style>\n<table border=\"1\" class=\"dataframe\">\n  <thead>\n    <tr style=\"text-align: right;\">\n      <th></th>\n      <th>Breast_Cancer</th>\n      <th>Abalone</th>\n    </tr>\n  </thead>\n  <tbody>\n    <tr>\n      <td>NaiveBayes</td>\n      <td>91.489362</td>\n      <td>11.457578</td>\n    </tr>\n    <tr>\n      <td>KNN</td>\n      <td>96.276596</td>\n      <td>19.361856</td>\n    </tr>\n    <tr>\n      <td>DecisionTree</td>\n      <td>92.021277</td>\n      <td>19.361856</td>\n    </tr>\n  </tbody>\n</table>\n</div>",
      "text/plain": "              Breast_Cancer    Abalone\nNaiveBayes        91.489362  11.457578\nKNN               96.276596  19.361856\nDecisionTree      92.021277  19.361856"
     },
     "execution_count": 81,
     "metadata": {},
     "output_type": "execute_result"
    }
   ],
   "source": [
    "df_holdout2"
   ]
  },
  {
   "cell_type": "code",
   "execution_count": 82,
   "metadata": {},
   "outputs": [
    {
     "data": {
      "text/html": "<div>\n<style scoped>\n    .dataframe tbody tr th:only-of-type {\n        vertical-align: middle;\n    }\n\n    .dataframe tbody tr th {\n        vertical-align: top;\n    }\n\n    .dataframe thead th {\n        text-align: right;\n    }\n</style>\n<table border=\"1\" class=\"dataframe\">\n  <thead>\n    <tr style=\"text-align: right;\">\n      <th></th>\n      <th>Breast_Cancer</th>\n      <th>Abalone</th>\n    </tr>\n  </thead>\n  <tbody>\n    <tr>\n      <td>NaiveBayes</td>\n      <td>93.286713</td>\n      <td>9.980861</td>\n    </tr>\n    <tr>\n      <td>KNN</td>\n      <td>96.013986</td>\n      <td>20.373206</td>\n    </tr>\n    <tr>\n      <td>DecisionTree</td>\n      <td>91.678322</td>\n      <td>19.693780</td>\n    </tr>\n  </tbody>\n</table>\n</div>",
      "text/plain": "              Breast_Cancer    Abalone\nNaiveBayes        93.286713   9.980861\nKNN               96.013986  20.373206\nDecisionTree      91.678322  19.693780"
     },
     "execution_count": 82,
     "metadata": {},
     "output_type": "execute_result"
    }
   ],
   "source": [
    "df_random1"
   ]
  },
  {
   "cell_type": "code",
   "execution_count": 83,
   "metadata": {},
   "outputs": [
    {
     "data": {
      "text/html": "<div>\n<style scoped>\n    .dataframe tbody tr th:only-of-type {\n        vertical-align: middle;\n    }\n\n    .dataframe tbody tr th {\n        vertical-align: top;\n    }\n\n    .dataframe thead th {\n        text-align: right;\n    }\n</style>\n<table border=\"1\" class=\"dataframe\">\n  <thead>\n    <tr style=\"text-align: right;\">\n      <th></th>\n      <th>Breast_Cancer</th>\n      <th>Abalone</th>\n    </tr>\n  </thead>\n  <tbody>\n    <tr>\n      <td>NaiveBayes</td>\n      <td>92.978723</td>\n      <td>10.812183</td>\n    </tr>\n    <tr>\n      <td>KNN</td>\n      <td>95.638298</td>\n      <td>20.493111</td>\n    </tr>\n    <tr>\n      <td>DecisionTree</td>\n      <td>93.031915</td>\n      <td>19.448876</td>\n    </tr>\n  </tbody>\n</table>\n</div>",
      "text/plain": "              Breast_Cancer    Abalone\nNaiveBayes        92.978723  10.812183\nKNN               95.638298  20.493111\nDecisionTree      93.031915  19.448876"
     },
     "execution_count": 83,
     "metadata": {},
     "output_type": "execute_result"
    }
   ],
   "source": [
    "df_random2"
   ]
  },
  {
   "cell_type": "code",
   "execution_count": 84,
   "metadata": {},
   "outputs": [
    {
     "data": {
      "text/html": "<div>\n<style scoped>\n    .dataframe tbody tr th:only-of-type {\n        vertical-align: middle;\n    }\n\n    .dataframe tbody tr th {\n        vertical-align: top;\n    }\n\n    .dataframe thead th {\n        text-align: right;\n    }\n</style>\n<table border=\"1\" class=\"dataframe\">\n  <thead>\n    <tr style=\"text-align: right;\">\n      <th></th>\n      <th>Breast_Cancer</th>\n      <th>Abalone</th>\n    </tr>\n  </thead>\n  <tbody>\n    <tr>\n      <td>NaiveBayes</td>\n      <td>92.974983</td>\n      <td>10.205745</td>\n    </tr>\n    <tr>\n      <td>KNN</td>\n      <td>96.485029</td>\n      <td>20.528196</td>\n    </tr>\n    <tr>\n      <td>DecisionTree</td>\n      <td>91.040825</td>\n      <td>18.858146</td>\n    </tr>\n  </tbody>\n</table>\n</div>",
      "text/plain": "              Breast_Cancer    Abalone\nNaiveBayes        92.974983  10.205745\nKNN               96.485029  20.528196\nDecisionTree      91.040825  18.858146"
     },
     "execution_count": 84,
     "metadata": {},
     "output_type": "execute_result"
    }
   ],
   "source": [
    "df_validate1"
   ]
  },
  {
   "cell_type": "code",
   "execution_count": 85,
   "metadata": {},
   "outputs": [
    {
     "data": {
      "text/html": "<div>\n<style scoped>\n    .dataframe tbody tr th:only-of-type {\n        vertical-align: middle;\n    }\n\n    .dataframe tbody tr th {\n        vertical-align: top;\n    }\n\n    .dataframe thead th {\n        text-align: right;\n    }\n</style>\n<table border=\"1\" class=\"dataframe\">\n  <thead>\n    <tr style=\"text-align: right;\">\n      <th></th>\n      <th>Breast_Cancer</th>\n      <th>Abalone</th>\n    </tr>\n  </thead>\n  <tbody>\n    <tr>\n      <td>NaiveBayes</td>\n      <td>92.970389</td>\n      <td>10.207620</td>\n    </tr>\n    <tr>\n      <td>KNN</td>\n      <td>95.955630</td>\n      <td>20.711904</td>\n    </tr>\n    <tr>\n      <td>DecisionTree</td>\n      <td>89.450478</td>\n      <td>19.419983</td>\n    </tr>\n  </tbody>\n</table>\n</div>",
      "text/plain": "              Breast_Cancer    Abalone\nNaiveBayes        92.970389  10.207620\nKNN               95.955630  20.711904\nDecisionTree      89.450478  19.419983"
     },
     "execution_count": 85,
     "metadata": {},
     "output_type": "execute_result"
    }
   ],
   "source": [
    "df_validate2"
   ]
  }
 ]
}