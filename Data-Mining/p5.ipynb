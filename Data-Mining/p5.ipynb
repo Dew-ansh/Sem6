{
 "nbformat": 4,
 "nbformat_minor": 2,
 "metadata": {
  "language_info": {
   "name": "python",
   "codemirror_mode": {
    "name": "ipython",
    "version": 3
   },
   "version": "3.7.0-final"
  },
  "orig_nbformat": 2,
  "file_extension": ".py",
  "mimetype": "text/x-python",
  "name": "python",
  "npconvert_exporter": "python",
  "pygments_lexer": "ipython3",
  "version": 3,
  "kernelspec": {
   "name": "python37032bit057de915a658466aad31de32241386bd",
   "display_name": "Python 3.7.0 32-bit"
  }
 },
 "cells": [
  {
   "cell_type": "code",
   "execution_count": 1,
   "metadata": {},
   "outputs": [],
   "source": [
    "from sklearn.datasets import load_breast_cancer\n",
    "from sklearn.model_selection import train_test_split,cross_val_score\n",
    "from sklearn.naive_bayes import GaussianNB\n",
    "from sklearn.neighbors import KNeighborsClassifier\n",
    "from sklearn.tree import DecisionTreeClassifier\n",
    "from sklearn.metrics import accuracy_score,confusion_matrix\n",
    "from sklearn.preprocessing import scale\n",
    "import numpy as np\n",
    "import pandas as pd"
   ]
  },
  {
   "cell_type": "code",
   "execution_count": 2,
   "metadata": {},
   "outputs": [],
   "source": [
    "cancer = load_breast_cancer()\n",
    "X_cancer = cancer.data\n",
    "Y_cancer = cancer.target\n",
    "X_cancer = scale(X_cancer)"
   ]
  },
  {
   "cell_type": "code",
   "execution_count": 3,
   "metadata": {},
   "outputs": [],
   "source": [
    "abalone = pd.read_csv('abalone.csv')\n",
    "X_abalone = abalone.iloc[:, :-1]\n",
    "X_abalone = pd.get_dummies(X_abalone)\n",
    "Y_abalone = abalone['Rings']\n",
    "X_abalone = scale(X_abalone)\n"
   ]
  },
  {
   "cell_type": "code",
   "execution_count": 4,
   "metadata": {},
   "outputs": [],
   "source": [
    "character_X_test = pd.read_csv('x_test', sep=' ', header=None)\n",
    "character_X_train = pd.read_csv('x_train', sep=' ', header=None)\n",
    "character_X_train.drop(character_X_train.columns[-1], axis=1, inplace=True)\n",
    "character_X_test.drop(character_X_test.columns[-1], axis=1, inplace=True)\n",
    "\n",
    "X_character = character_X_train.append(character_X_test)\n",
    "\n",
    "character_Y_test = pd.read_csv('y_test', sep=' ', header=None)\n",
    "character_Y_train = pd.read_csv('y_train', sep=' ', header=None)\n",
    "\n",
    "Y_character = character_Y_train.append(character_Y_test)\n",
    "Y_character = Y_character.idxmax(axis = 1)\n"
   ]
  },
  {
   "cell_type": "code",
   "execution_count": 6,
   "metadata": {},
   "outputs": [],
   "source": [
    "def model(X, Y, test, iteration, classifier):\n",
    "    accuracy = np.array([])\n",
    "    for i in range(iteration):\n",
    "        X_train, X_test, Y_train, Y_test = train_test_split(X, Y, test_size = test)\n",
    "        classifier.fit(X_train, Y_train)\n",
    "        Y_pred = classifier.predict(X_test)\n",
    "        accuracy = np.append(accuracy, accuracy_score(Y_test, Y_pred)*100)\n",
    "    \n",
    "    accuracy = np.mean(accuracy)\n",
    "    #matrix = confusion_matrix(Y_test, Y_pred)\n",
    "\n",
    "    return accuracy\n"
   ]
  },
  {
   "cell_type": "code",
   "execution_count": 5,
   "metadata": {},
   "outputs": [],
   "source": [
    "def validate_model(X, Y, test, classifier):\n",
    "\n",
    "    accuracy = cross_val_score(classifier, X, Y, cv= int(1/test)).mean() *100\n",
    "    \n",
    "    #matrix = confusion_matrix(Y_test, Y_pred)\n",
    "\n",
    "    return accuracy\n"
   ]
  },
  {
   "cell_type": "code",
   "execution_count": 7,
   "metadata": {},
   "outputs": [],
   "source": [
    "classifier = {'NaiveBayes' : GaussianNB(), 'KNN': KNeighborsClassifier(3), 'DecisionTree' : DecisionTreeClassifier()}\n",
    "dataset = {'Breast_Cancer' : [X_cancer, Y_cancer], 'Abalone' : [X_abalone, Y_abalone], 'Charcter' : [X_character , Y_character]}\n",
    "\n",
    "df_holdout1 = pd.DataFrame(np.empty([3, 3]), columns=dataset.keys(), index=classifier.keys())\n",
    "df_holdout2 = pd.DataFrame(np.empty([3, 3]), columns=dataset.keys(), index=classifier.keys())\n",
    "df_random1 = pd.DataFrame(np.empty([3, 3]), columns=dataset.keys(), index=classifier.keys())\n",
    "df_random2 = pd.DataFrame(np.empty([3, 3]), columns=dataset.keys(), index=classifier.keys())\n",
    "df_validate1 = pd.DataFrame(np.empty([3, 3]), columns=dataset.keys(), index=classifier.keys())\n",
    "df_validate2 = pd.DataFrame(np.empty([3, 3]), columns=dataset.keys(), index=classifier.keys())\n",
    "\n",
    "test = {0.25 : [df_holdout1, df_random1, df_validate1] , 0.33 : [df_holdout2, df_random2, df_validate2]}\n",
    "\n",
    "for k_key,k_value in test.items():\n",
    "    for i_key,i_value in classifier.items():\n",
    "        for j_key, j_value in dataset.items():\n",
    "            k_value[0].loc[i_key, j_key] = model(j_value[0], j_value[1], k_key, 1, i_value)\n",
    "            k_value[1].loc[i_key, j_key] = model(j_value[0], j_value[1], k_key, 10, i_value)\n",
    "            k_value[2].loc[i_key, j_key] = validate_model(j_value[0], j_value[1], k_key, i_value)"
   ]
  },
  {
   "cell_type": "code",
   "execution_count": 8,
   "metadata": {},
   "outputs": [
    {
     "data": {
      "text/html": "<div>\n<style scoped>\n    .dataframe tbody tr th:only-of-type {\n        vertical-align: middle;\n    }\n\n    .dataframe tbody tr th {\n        vertical-align: top;\n    }\n\n    .dataframe thead th {\n        text-align: right;\n    }\n</style>\n<table border=\"1\" class=\"dataframe\">\n  <thead>\n    <tr style=\"text-align: right;\">\n      <th></th>\n      <th>Breast_Cancer</th>\n      <th>Abalone</th>\n      <th>Charcter</th>\n    </tr>\n  </thead>\n  <tbody>\n    <tr>\n      <th>NaiveBayes</th>\n      <td>92.307692</td>\n      <td>8.516746</td>\n      <td>83.185185</td>\n    </tr>\n    <tr>\n      <th>KNN</th>\n      <td>98.601399</td>\n      <td>19.617225</td>\n      <td>91.555556</td>\n    </tr>\n    <tr>\n      <th>DecisionTree</th>\n      <td>95.104895</td>\n      <td>19.617225</td>\n      <td>96.740741</td>\n    </tr>\n  </tbody>\n</table>\n</div>",
      "text/plain": "              Breast_Cancer    Abalone   Charcter\nNaiveBayes        92.307692   8.516746  83.185185\nKNN               98.601399  19.617225  91.555556\nDecisionTree      95.104895  19.617225  96.740741"
     },
     "execution_count": 8,
     "metadata": {},
     "output_type": "execute_result"
    }
   ],
   "source": [
    "df_holdout1"
   ]
  },
  {
   "cell_type": "code",
   "execution_count": 9,
   "metadata": {},
   "outputs": [
    {
     "data": {
      "text/html": "<div>\n<style scoped>\n    .dataframe tbody tr th:only-of-type {\n        vertical-align: middle;\n    }\n\n    .dataframe tbody tr th {\n        vertical-align: top;\n    }\n\n    .dataframe thead th {\n        text-align: right;\n    }\n</style>\n<table border=\"1\" class=\"dataframe\">\n  <thead>\n    <tr style=\"text-align: right;\">\n      <th></th>\n      <th>Breast_Cancer</th>\n      <th>Abalone</th>\n      <th>Charcter</th>\n    </tr>\n  </thead>\n  <tbody>\n    <tr>\n      <th>NaiveBayes</th>\n      <td>91.489362</td>\n      <td>11.167513</td>\n      <td>83.950617</td>\n    </tr>\n    <tr>\n      <th>KNN</th>\n      <td>96.808511</td>\n      <td>20.884699</td>\n      <td>90.460157</td>\n    </tr>\n    <tr>\n      <th>DecisionTree</th>\n      <td>93.617021</td>\n      <td>19.579405</td>\n      <td>96.352413</td>\n    </tr>\n  </tbody>\n</table>\n</div>",
      "text/plain": "              Breast_Cancer    Abalone   Charcter\nNaiveBayes        91.489362  11.167513  83.950617\nKNN               96.808511  20.884699  90.460157\nDecisionTree      93.617021  19.579405  96.352413"
     },
     "execution_count": 9,
     "metadata": {},
     "output_type": "execute_result"
    }
   ],
   "source": [
    "df_holdout2"
   ]
  },
  {
   "cell_type": "code",
   "execution_count": 10,
   "metadata": {},
   "outputs": [
    {
     "data": {
      "text/html": "<div>\n<style scoped>\n    .dataframe tbody tr th:only-of-type {\n        vertical-align: middle;\n    }\n\n    .dataframe tbody tr th {\n        vertical-align: top;\n    }\n\n    .dataframe thead th {\n        text-align: right;\n    }\n</style>\n<table border=\"1\" class=\"dataframe\">\n  <thead>\n    <tr style=\"text-align: right;\">\n      <th></th>\n      <th>Breast_Cancer</th>\n      <th>Abalone</th>\n      <th>Charcter</th>\n    </tr>\n  </thead>\n  <tbody>\n    <tr>\n      <th>NaiveBayes</th>\n      <td>92.307692</td>\n      <td>10.373206</td>\n      <td>82.533333</td>\n    </tr>\n    <tr>\n      <th>KNN</th>\n      <td>96.643357</td>\n      <td>20.066986</td>\n      <td>91.866667</td>\n    </tr>\n    <tr>\n      <th>DecisionTree</th>\n      <td>91.818182</td>\n      <td>20.401914</td>\n      <td>96.992593</td>\n    </tr>\n  </tbody>\n</table>\n</div>",
      "text/plain": "              Breast_Cancer    Abalone   Charcter\nNaiveBayes        92.307692  10.373206  82.533333\nKNN               96.643357  20.066986  91.866667\nDecisionTree      91.818182  20.401914  96.992593"
     },
     "execution_count": 10,
     "metadata": {},
     "output_type": "execute_result"
    }
   ],
   "source": [
    "df_random1"
   ]
  },
  {
   "cell_type": "code",
   "execution_count": 11,
   "metadata": {},
   "outputs": [
    {
     "data": {
      "text/html": "<div>\n<style scoped>\n    .dataframe tbody tr th:only-of-type {\n        vertical-align: middle;\n    }\n\n    .dataframe tbody tr th {\n        vertical-align: top;\n    }\n\n    .dataframe thead th {\n        text-align: right;\n    }\n</style>\n<table border=\"1\" class=\"dataframe\">\n  <thead>\n    <tr style=\"text-align: right;\">\n      <th></th>\n      <th>Breast_Cancer</th>\n      <th>Abalone</th>\n      <th>Charcter</th>\n    </tr>\n  </thead>\n  <tbody>\n    <tr>\n      <th>NaiveBayes</th>\n      <td>93.510638</td>\n      <td>10.797679</td>\n      <td>82.648709</td>\n    </tr>\n    <tr>\n      <th>KNN</th>\n      <td>96.968085</td>\n      <td>20.630892</td>\n      <td>91.228956</td>\n    </tr>\n    <tr>\n      <th>DecisionTree</th>\n      <td>91.755319</td>\n      <td>20.203046</td>\n      <td>96.503928</td>\n    </tr>\n  </tbody>\n</table>\n</div>",
      "text/plain": "              Breast_Cancer    Abalone   Charcter\nNaiveBayes        93.510638  10.797679  82.648709\nKNN               96.968085  20.630892  91.228956\nDecisionTree      91.755319  20.203046  96.503928"
     },
     "execution_count": 11,
     "metadata": {},
     "output_type": "execute_result"
    }
   ],
   "source": [
    "df_random2"
   ]
  },
  {
   "cell_type": "code",
   "execution_count": 12,
   "metadata": {},
   "outputs": [
    {
     "data": {
      "text/html": "<div>\n<style scoped>\n    .dataframe tbody tr th:only-of-type {\n        vertical-align: middle;\n    }\n\n    .dataframe tbody tr th {\n        vertical-align: top;\n    }\n\n    .dataframe thead th {\n        text-align: right;\n    }\n</style>\n<table border=\"1\" class=\"dataframe\">\n  <thead>\n    <tr style=\"text-align: right;\">\n      <th></th>\n      <th>Breast_Cancer</th>\n      <th>Abalone</th>\n      <th>Charcter</th>\n    </tr>\n  </thead>\n  <tbody>\n    <tr>\n      <th>NaiveBayes</th>\n      <td>92.974983</td>\n      <td>10.390864</td>\n      <td>82.925926</td>\n    </tr>\n    <tr>\n      <th>KNN</th>\n      <td>96.485029</td>\n      <td>20.446021</td>\n      <td>91.592593</td>\n    </tr>\n    <tr>\n      <th>DecisionTree</th>\n      <td>92.271989</td>\n      <td>19.607921</td>\n      <td>96.814815</td>\n    </tr>\n  </tbody>\n</table>\n</div>",
      "text/plain": "              Breast_Cancer    Abalone   Charcter\nNaiveBayes        92.974983  10.390864  82.925926\nKNN               96.485029  20.446021  91.592593\nDecisionTree      92.271989  19.607921  96.814815"
     },
     "execution_count": 12,
     "metadata": {},
     "output_type": "execute_result"
    }
   ],
   "source": [
    "df_validate1"
   ]
  },
  {
   "cell_type": "code",
   "execution_count": 13,
   "metadata": {},
   "outputs": [
    {
     "data": {
      "text/html": "<div>\n<style scoped>\n    .dataframe tbody tr th:only-of-type {\n        vertical-align: middle;\n    }\n\n    .dataframe tbody tr th {\n        vertical-align: top;\n    }\n\n    .dataframe thead th {\n        text-align: right;\n    }\n</style>\n<table border=\"1\" class=\"dataframe\">\n  <thead>\n    <tr style=\"text-align: right;\">\n      <th></th>\n      <th>Breast_Cancer</th>\n      <th>Abalone</th>\n      <th>Charcter</th>\n    </tr>\n  </thead>\n  <tbody>\n    <tr>\n      <th>NaiveBayes</th>\n      <td>92.970389</td>\n      <td>10.294992</td>\n      <td>82.648148</td>\n    </tr>\n    <tr>\n      <th>KNN</th>\n      <td>95.955630</td>\n      <td>20.660895</td>\n      <td>91.111111</td>\n    </tr>\n    <tr>\n      <th>DecisionTree</th>\n      <td>90.679476</td>\n      <td>19.488022</td>\n      <td>96.518519</td>\n    </tr>\n  </tbody>\n</table>\n</div>",
      "text/plain": "              Breast_Cancer    Abalone   Charcter\nNaiveBayes        92.970389  10.294992  82.648148\nKNN               95.955630  20.660895  91.111111\nDecisionTree      90.679476  19.488022  96.518519"
     },
     "execution_count": 13,
     "metadata": {},
     "output_type": "execute_result"
    }
   ],
   "source": [
    "df_validate2"
   ]
  }
 ]
}