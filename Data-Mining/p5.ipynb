{
 "nbformat": 4,
 "nbformat_minor": 2,
 "metadata": {
  "language_info": {
   "name": "python",
   "codemirror_mode": {
    "name": "ipython",
    "version": 3
   },
   "version": "3.7.4-final"
  },
  "orig_nbformat": 2,
  "file_extension": ".py",
  "mimetype": "text/x-python",
  "name": "python",
  "npconvert_exporter": "python",
  "pygments_lexer": "ipython3",
  "version": 3,
  "kernelspec": {
   "name": "python37464bitbasecondafbc5b514af964a75a82a492c172bfb05",
   "display_name": "Python 3.7.4 64-bit ('base': conda)"
  }
 },
 "cells": [
  {
   "cell_type": "code",
   "execution_count": 277,
   "metadata": {},
   "outputs": [],
   "source": [
    "from sklearn.datasets import load_breast_cancer\n",
    "from sklearn.model_selection import train_test_split,cross_val_score\n",
    "from sklearn.naive_bayes import GaussianNB\n",
    "from sklearn.neighbors import KNeighborsClassifier\n",
    "from sklearn.tree import DecisionTreeClassifier\n",
    "from sklearn.metrics import accuracy_score,confusion_matrix\n",
    "from sklearn.preprocessing import scale\n",
    "import numpy as np\n",
    "import pandas as pd"
   ]
  },
  {
   "cell_type": "code",
   "execution_count": 278,
   "metadata": {},
   "outputs": [],
   "source": [
    "cancer = load_breast_cancer()\n",
    "X_cancer = cancer.data\n",
    "Y_cancer = cancer.target\n",
    "X_cancer = scale(X_cancer)"
   ]
  },
  {
   "cell_type": "code",
   "execution_count": 279,
   "metadata": {},
   "outputs": [],
   "source": [
    "abalone = pd.read_csv('abalone.csv')\n",
    "X_abalone = abalone.iloc[:, :-1]\n",
    "X_abalone = pd.get_dummies(X_abalone)\n",
    "Y_abalone = abalone['Rings'].T\n",
    "X_abalone = scale(X_abalone)\n"
   ]
  },
  {
   "cell_type": "code",
   "execution_count": 280,
   "metadata": {},
   "outputs": [],
   "source": [
    "character_X_test = pd.read_csv('x_test', sep=' ', header=None)\n",
    "character_X_train = pd.read_csv('x_train', sep=' ', header=None)\n",
    "character_X_train.drop(character_X_train.columns[-1], axis=1, inplace=True)\n",
    "character_X_test.drop(character_X_test.columns[-1], axis=1, inplace=True)\n",
    "\n",
    "X_character = character_X_train.append(character_X_test)\n",
    "\n",
    "character_Y_test = pd.read_csv('y_test', sep=' ', header=None)\n",
    "character_Y_train = pd.read_csv('y_train', sep=' ', header=None)\n",
    "\n",
    "Y_character = character_Y_train.append(character_Y_test)\n",
    "Y_character = Y_character.idxmax(axis = 1)\n"
   ]
  },
  {
   "cell_type": "code",
   "execution_count": 281,
   "metadata": {},
   "outputs": [],
   "source": [
    "def model(X, Y, test, iteration, classifier):\n",
    "    accuracy = np.array([])\n",
    "    for i in range(iteration):\n",
    "        X_train, X_test, Y_train, Y_test = train_test_split(X, Y, test_size = test)\n",
    "        classifier.fit(X_train, Y_train)\n",
    "        Y_pred = classifier.predict(X_test)\n",
    "        accuracy = np.append(accuracy, accuracy_score(Y_test, Y_pred)*100)\n",
    "    \n",
    "    accuracy = np.mean(accuracy)\n",
    "    #matrix = confusion_matrix(Y_test, Y_pred)\n",
    "\n",
    "    return accuracy\n"
   ]
  },
  {
   "cell_type": "code",
   "execution_count": 282,
   "metadata": {},
   "outputs": [],
   "source": [
    "def validate_model(X, Y, test, classifier):\n",
    "\n",
    "    accuracy = cross_val_score(classifier, X, Y, cv= int(1/test)).mean() *100\n",
    "    \n",
    "    #matrix = confusion_matrix(Y_test, Y_pred)\n",
    "\n",
    "    return accuracy\n"
   ]
  },
  {
   "cell_type": "code",
   "execution_count": 283,
   "metadata": {},
   "outputs": [],
   "source": [
    "classifier = {'NaiveBayes' : GaussianNB(), 'KNN': KNeighborsClassifier(3), 'DecisionTree' : DecisionTreeClassifier()}\n",
    "dataset = {'Breast_Cancer' : [X_cancer, Y_cancer], 'Abalone' : [X_abalone, Y_abalone], 'Charcter' : [X_character , Y_character]}\n",
    "\n",
    "df_holdout1 = pd.DataFrame(np.empty([3, 3]), columns=dataset.keys(), index=classifier.keys())\n",
    "df_holdout2 = pd.DataFrame(np.empty([3, 3]), columns=dataset.keys(), index=classifier.keys())\n",
    "df_random1 = pd.DataFrame(np.empty([3, 3]), columns=dataset.keys(), index=classifier.keys())\n",
    "df_random2 = pd.DataFrame(np.empty([3, 3]), columns=dataset.keys(), index=classifier.keys())\n",
    "df_validate1 = pd.DataFrame(np.empty([3, 3]), columns=dataset.keys(), index=classifier.keys())\n",
    "df_validate2 = pd.DataFrame(np.empty([3, 3]), columns=dataset.keys(), index=classifier.keys())\n",
    "\n",
    "test = {0.25 : [df_holdout1, df_random1, df_validate1] , 0.33 : [df_holdout2, df_random2, df_validate2]}\n",
    "\n",
    "for k_key,k_value in test.items():\n",
    "    for i_key,i_value in classifier.items():\n",
    "        for j_key, j_value in dataset.items():\n",
    "            k_value[0].loc[i_key, j_key] = model(j_value[0], j_value[1], k_key, 1, i_value)\n",
    "            k_value[1].loc[i_key, j_key] = model(j_value[0], j_value[1], k_key, 10, i_value)\n",
    "            k_value[2].loc[i_key, j_key] = validate_model(j_value[0], j_value[1], k_key, i_value)"
   ]
  },
  {
   "cell_type": "code",
   "execution_count": 284,
   "metadata": {},
   "outputs": [
    {
     "data": {
      "text/html": "<div>\n<style scoped>\n    .dataframe tbody tr th:only-of-type {\n        vertical-align: middle;\n    }\n\n    .dataframe tbody tr th {\n        vertical-align: top;\n    }\n\n    .dataframe thead th {\n        text-align: right;\n    }\n</style>\n<table border=\"1\" class=\"dataframe\">\n  <thead>\n    <tr style=\"text-align: right;\">\n      <th></th>\n      <th>Breast_Cancer</th>\n      <th>Abalone</th>\n      <th>Charcter</th>\n    </tr>\n  </thead>\n  <tbody>\n    <tr>\n      <td>NaiveBayes</td>\n      <td>96.503497</td>\n      <td>8.421053</td>\n      <td>82.740741</td>\n    </tr>\n    <tr>\n      <td>KNN</td>\n      <td>95.804196</td>\n      <td>21.435407</td>\n      <td>91.111111</td>\n    </tr>\n    <tr>\n      <td>DecisionTree</td>\n      <td>90.909091</td>\n      <td>18.277512</td>\n      <td>96.592593</td>\n    </tr>\n  </tbody>\n</table>\n</div>",
      "text/plain": "              Breast_Cancer    Abalone   Charcter\nNaiveBayes        96.503497   8.421053  82.740741\nKNN               95.804196  21.435407  91.111111\nDecisionTree      90.909091  18.277512  96.592593"
     },
     "execution_count": 284,
     "metadata": {},
     "output_type": "execute_result"
    }
   ],
   "source": [
    "df_holdout1"
   ]
  },
  {
   "cell_type": "code",
   "execution_count": 285,
   "metadata": {},
   "outputs": [
    {
     "data": {
      "text/html": "<div>\n<style scoped>\n    .dataframe tbody tr th:only-of-type {\n        vertical-align: middle;\n    }\n\n    .dataframe tbody tr th {\n        vertical-align: top;\n    }\n\n    .dataframe thead th {\n        text-align: right;\n    }\n</style>\n<table border=\"1\" class=\"dataframe\">\n  <thead>\n    <tr style=\"text-align: right;\">\n      <th></th>\n      <th>Breast_Cancer</th>\n      <th>Abalone</th>\n      <th>Charcter</th>\n    </tr>\n  </thead>\n  <tbody>\n    <tr>\n      <td>NaiveBayes</td>\n      <td>93.617021</td>\n      <td>9.644670</td>\n      <td>82.828283</td>\n    </tr>\n    <tr>\n      <td>KNN</td>\n      <td>97.340426</td>\n      <td>21.537346</td>\n      <td>91.021324</td>\n    </tr>\n    <tr>\n      <td>DecisionTree</td>\n      <td>94.148936</td>\n      <td>19.796954</td>\n      <td>95.510662</td>\n    </tr>\n  </tbody>\n</table>\n</div>",
      "text/plain": "              Breast_Cancer    Abalone   Charcter\nNaiveBayes        93.617021   9.644670  82.828283\nKNN               97.340426  21.537346  91.021324\nDecisionTree      94.148936  19.796954  95.510662"
     },
     "execution_count": 285,
     "metadata": {},
     "output_type": "execute_result"
    }
   ],
   "source": [
    "df_holdout2"
   ]
  },
  {
   "cell_type": "code",
   "execution_count": 286,
   "metadata": {},
   "outputs": [
    {
     "data": {
      "text/html": "<div>\n<style scoped>\n    .dataframe tbody tr th:only-of-type {\n        vertical-align: middle;\n    }\n\n    .dataframe tbody tr th {\n        vertical-align: top;\n    }\n\n    .dataframe thead th {\n        text-align: right;\n    }\n</style>\n<table border=\"1\" class=\"dataframe\">\n  <thead>\n    <tr style=\"text-align: right;\">\n      <th></th>\n      <th>Breast_Cancer</th>\n      <th>Abalone</th>\n      <th>Charcter</th>\n    </tr>\n  </thead>\n  <tbody>\n    <tr>\n      <td>NaiveBayes</td>\n      <td>93.146853</td>\n      <td>10.114833</td>\n      <td>82.288889</td>\n    </tr>\n    <tr>\n      <td>KNN</td>\n      <td>96.573427</td>\n      <td>20.918660</td>\n      <td>91.118519</td>\n    </tr>\n    <tr>\n      <td>DecisionTree</td>\n      <td>92.937063</td>\n      <td>20.622010</td>\n      <td>97.133333</td>\n    </tr>\n  </tbody>\n</table>\n</div>",
      "text/plain": "              Breast_Cancer    Abalone   Charcter\nNaiveBayes        93.146853  10.114833  82.288889\nKNN               96.573427  20.918660  91.118519\nDecisionTree      92.937063  20.622010  97.133333"
     },
     "execution_count": 286,
     "metadata": {},
     "output_type": "execute_result"
    }
   ],
   "source": [
    "df_random1"
   ]
  },
  {
   "cell_type": "code",
   "execution_count": 287,
   "metadata": {},
   "outputs": [
    {
     "data": {
      "text/html": "<div>\n<style scoped>\n    .dataframe tbody tr th:only-of-type {\n        vertical-align: middle;\n    }\n\n    .dataframe tbody tr th {\n        vertical-align: top;\n    }\n\n    .dataframe thead th {\n        text-align: right;\n    }\n</style>\n<table border=\"1\" class=\"dataframe\">\n  <thead>\n    <tr style=\"text-align: right;\">\n      <th></th>\n      <th>Breast_Cancer</th>\n      <th>Abalone</th>\n      <th>Charcter</th>\n    </tr>\n  </thead>\n  <tbody>\n    <tr>\n      <td>NaiveBayes</td>\n      <td>93.297872</td>\n      <td>10.195794</td>\n      <td>82.867565</td>\n    </tr>\n    <tr>\n      <td>KNN</td>\n      <td>97.074468</td>\n      <td>20.500363</td>\n      <td>90.768799</td>\n    </tr>\n    <tr>\n      <td>DecisionTree</td>\n      <td>92.606383</td>\n      <td>19.956490</td>\n      <td>96.683502</td>\n    </tr>\n  </tbody>\n</table>\n</div>",
      "text/plain": "              Breast_Cancer    Abalone   Charcter\nNaiveBayes        93.297872  10.195794  82.867565\nKNN               97.074468  20.500363  90.768799\nDecisionTree      92.606383  19.956490  96.683502"
     },
     "execution_count": 287,
     "metadata": {},
     "output_type": "execute_result"
    }
   ],
   "source": [
    "df_random2"
   ]
  },
  {
   "cell_type": "code",
   "execution_count": 288,
   "metadata": {},
   "outputs": [
    {
     "data": {
      "text/html": "<div>\n<style scoped>\n    .dataframe tbody tr th:only-of-type {\n        vertical-align: middle;\n    }\n\n    .dataframe tbody tr th {\n        vertical-align: top;\n    }\n\n    .dataframe thead th {\n        text-align: right;\n    }\n</style>\n<table border=\"1\" class=\"dataframe\">\n  <thead>\n    <tr style=\"text-align: right;\">\n      <th></th>\n      <th>Breast_Cancer</th>\n      <th>Abalone</th>\n      <th>Charcter</th>\n    </tr>\n  </thead>\n  <tbody>\n    <tr>\n      <td>NaiveBayes</td>\n      <td>92.974983</td>\n      <td>10.205745</td>\n      <td>82.925926</td>\n    </tr>\n    <tr>\n      <td>KNN</td>\n      <td>96.485029</td>\n      <td>20.528196</td>\n      <td>91.592593</td>\n    </tr>\n    <tr>\n      <td>DecisionTree</td>\n      <td>92.446814</td>\n      <td>18.998850</td>\n      <td>96.777778</td>\n    </tr>\n  </tbody>\n</table>\n</div>",
      "text/plain": "              Breast_Cancer    Abalone   Charcter\nNaiveBayes        92.974983  10.205745  82.925926\nKNN               96.485029  20.528196  91.592593\nDecisionTree      92.446814  18.998850  96.777778"
     },
     "execution_count": 288,
     "metadata": {},
     "output_type": "execute_result"
    }
   ],
   "source": [
    "df_validate1"
   ]
  },
  {
   "cell_type": "code",
   "execution_count": 289,
   "metadata": {},
   "outputs": [
    {
     "data": {
      "text/html": "<div>\n<style scoped>\n    .dataframe tbody tr th:only-of-type {\n        vertical-align: middle;\n    }\n\n    .dataframe tbody tr th {\n        vertical-align: top;\n    }\n\n    .dataframe thead th {\n        text-align: right;\n    }\n</style>\n<table border=\"1\" class=\"dataframe\">\n  <thead>\n    <tr style=\"text-align: right;\">\n      <th></th>\n      <th>Breast_Cancer</th>\n      <th>Abalone</th>\n      <th>Charcter</th>\n    </tr>\n  </thead>\n  <tbody>\n    <tr>\n      <td>NaiveBayes</td>\n      <td>92.970389</td>\n      <td>10.207620</td>\n      <td>82.648148</td>\n    </tr>\n    <tr>\n      <td>KNN</td>\n      <td>95.955630</td>\n      <td>20.711904</td>\n      <td>91.111111</td>\n    </tr>\n    <tr>\n      <td>DecisionTree</td>\n      <td>89.624988</td>\n      <td>20.211850</td>\n      <td>96.666667</td>\n    </tr>\n  </tbody>\n</table>\n</div>",
      "text/plain": "              Breast_Cancer    Abalone   Charcter\nNaiveBayes        92.970389  10.207620  82.648148\nKNN               95.955630  20.711904  91.111111\nDecisionTree      89.624988  20.211850  96.666667"
     },
     "execution_count": 289,
     "metadata": {},
     "output_type": "execute_result"
    }
   ],
   "source": [
    "df_validate2"
   ]
  }
 ]
}