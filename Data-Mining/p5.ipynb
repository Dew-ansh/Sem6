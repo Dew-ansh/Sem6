{
 "nbformat": 4,
 "nbformat_minor": 2,
 "metadata": {
  "language_info": {
   "name": "python",
   "codemirror_mode": {
    "name": "ipython",
    "version": 3
   },
   "version": "3.7.4-final"
  },
  "orig_nbformat": 2,
  "file_extension": ".py",
  "mimetype": "text/x-python",
  "name": "python",
  "npconvert_exporter": "python",
  "pygments_lexer": "ipython3",
  "version": 3,
  "kernelspec": {
   "name": "python37464bitbasecondafbc5b514af964a75a82a492c172bfb05",
   "display_name": "Python 3.7.4 64-bit ('base': conda)"
  }
 },
 "cells": [
  {
   "cell_type": "code",
   "execution_count": 109,
   "metadata": {},
   "outputs": [],
   "source": [
    "from sklearn.datasets import load_breast_cancer\n",
    "from sklearn.model_selection import train_test_split\n",
    "from sklearn.naive_bayes import GaussianNB\n",
    "from sklearn.neighbors import KNeighborsClassifier\n",
    "from sklearn.tree import DecisionTreeClassifier\n",
    "from sklearn.metrics import accuracy_score,confusion_matrix\n",
    "from sklearn.preprocessing import scale\n",
    "import numpy as np\n",
    "import pandas as pd"
   ]
  },
  {
   "cell_type": "code",
   "execution_count": 110,
   "metadata": {},
   "outputs": [],
   "source": [
    "cancer = load_breast_cancer()\n",
    "X_cancer = cancer.data\n",
    "Y_cancer = cancer.target\n",
    "X_cancer = scale(X_cancer)"
   ]
  },
  {
   "cell_type": "code",
   "execution_count": 118,
   "metadata": {},
   "outputs": [
    {
     "data": {
      "text/plain": "array([[-0.57455813, -0.43214879, -1.06442415, ..., -0.67483383,\n        -0.68801788,  1.31667716],\n       [-1.44898585, -1.439929  , -1.18397831, ..., -0.67483383,\n        -0.68801788,  1.31667716],\n       [ 0.05003309,  0.12213032, -0.10799087, ...,  1.48184628,\n        -0.68801788, -0.75948762],\n       ...,\n       [ 0.6329849 ,  0.67640943,  1.56576738, ..., -0.67483383,\n        -0.68801788,  1.31667716],\n       [ 0.84118198,  0.77718745,  0.25067161, ...,  1.48184628,\n        -0.68801788, -0.75948762],\n       [ 1.54905203,  1.48263359,  1.32665906, ..., -0.67483383,\n        -0.68801788,  1.31667716]])"
     },
     "execution_count": 118,
     "metadata": {},
     "output_type": "execute_result"
    }
   ],
   "source": [
    "abalone = pd.read_csv('abalone.csv')\n",
    "X_abalone = abalone.iloc[:, :-1]\n",
    "X_abalone = pd.get_dummies(X_abalone)\n",
    "Y_abalone = abalone['Rings'].T\n",
    "X_abalone = scale(X_abalone)\n",
    "\n",
    "X_abalone"
   ]
  },
  {
   "cell_type": "code",
   "execution_count": 112,
   "metadata": {},
   "outputs": [],
   "source": [
    "def model(X, Y, test, iteration, classifier):\n",
    "    accuracy = np.array([])\n",
    "    for i in range(iteration):\n",
    "        X_train, X_test, Y_train, Y_test = train_test_split(X, Y, test_size = test)\n",
    "        classifier.fit(X_train, Y_train)\n",
    "        Y_pred = classifier.predict(X_test)\n",
    "        accuracy = np.append(accuracy, accuracy_score(Y_test, Y_pred)*100)\n",
    "    \n",
    "    accuracy = np.mean(accuracy)\n",
    "    #matrix = confusion_matrix(Y_test, Y_pred)\n",
    "\n",
    "    return accuracy\n"
   ]
  },
  {
   "cell_type": "code",
   "execution_count": null,
   "metadata": {},
   "outputs": [],
   "source": [
    "def validate_model(X, Y, test, classifier):\n",
    "    accuracy = np.array([])\n",
    "    for i in range(iteration):\n",
    "        X_train, X_test, Y_train, Y_test = train_test_split(X, Y, test_size = test)\n",
    "        classifier.fit(X_train, Y_train)\n",
    "        Y_pred = classifier.predict(X_test)\n",
    "        accuracy = np.append(accuracy, accuracy_score(Y_test, Y_pred)*100)\n",
    "    \n",
    "    accuracy = np.mean(accuracy)\n",
    "    #matrix = confusion_matrix(Y_test, Y_pred)\n",
    "\n",
    "    return accuracy\n"
   ]
  },
  {
   "cell_type": "code",
   "execution_count": 113,
   "metadata": {},
   "outputs": [],
   "source": [
    "classifier = {'NaiveBayes' : GaussianNB(), 'KNN': KNeighborsClassifier(3), 'DecisionTree' : DecisionTreeClassifier()}\n",
    "dataset = {'Breast_Cancer' : [X_cancer, Y_cancer], 'Abalone' : [X_abalone, Y_abalone]}\n",
    "\n",
    "df_holdout1 = pd.DataFrame(np.empty([3, 2]), columns=dataset.keys(), index=classifier.keys())\n",
    "df_holdout2 = pd.DataFrame(np.empty([3, 2]), columns=dataset.keys(), index=classifier.keys())\n",
    "df_random1 = pd.DataFrame(np.empty([3, 2]), columns=dataset.keys(), index=classifier.keys())\n",
    "df_random2 = pd.DataFrame(np.empty([3, 2]), columns=dataset.keys(), index=classifier.keys())\n",
    "\n",
    "test = {0.25 : [df_holdout1, df_random1] , 0.33 : [df_holdout2, df_random2]}\n",
    "\n",
    "\n",
    "\n",
    "for k_key,k_value in test.items():\n",
    "    for i_key,i_value in classifier.items():\n",
    "        for j_key, j_value in dataset.items():\n",
    "            k_value[0].loc[i_key, j_key] = model(j_value[0], j_value[1], k_key, 1, i_value)\n",
    "            k_value[1].loc[i_key, j_key] = model(j_value[0], j_value[1], k_key, 10, i_value)\n",
    "            "
   ]
  },
  {
   "cell_type": "code",
   "execution_count": 114,
   "metadata": {},
   "outputs": [
    {
     "data": {
      "text/html": "<div>\n<style scoped>\n    .dataframe tbody tr th:only-of-type {\n        vertical-align: middle;\n    }\n\n    .dataframe tbody tr th {\n        vertical-align: top;\n    }\n\n    .dataframe thead th {\n        text-align: right;\n    }\n</style>\n<table border=\"1\" class=\"dataframe\">\n  <thead>\n    <tr style=\"text-align: right;\">\n      <th></th>\n      <th>Breast_Cancer</th>\n      <th>Abalone</th>\n    </tr>\n  </thead>\n  <tbody>\n    <tr>\n      <td>NaiveBayes</td>\n      <td>93.706294</td>\n      <td>10.239234</td>\n    </tr>\n    <tr>\n      <td>KNN</td>\n      <td>96.503497</td>\n      <td>22.679426</td>\n    </tr>\n    <tr>\n      <td>DecisionTree</td>\n      <td>93.006993</td>\n      <td>21.244019</td>\n    </tr>\n  </tbody>\n</table>\n</div>",
      "text/plain": "              Breast_Cancer    Abalone\nNaiveBayes        93.706294  10.239234\nKNN               96.503497  22.679426\nDecisionTree      93.006993  21.244019"
     },
     "execution_count": 114,
     "metadata": {},
     "output_type": "execute_result"
    }
   ],
   "source": [
    "df_holdout1"
   ]
  },
  {
   "cell_type": "code",
   "execution_count": 115,
   "metadata": {},
   "outputs": [
    {
     "data": {
      "text/html": "<div>\n<style scoped>\n    .dataframe tbody tr th:only-of-type {\n        vertical-align: middle;\n    }\n\n    .dataframe tbody tr th {\n        vertical-align: top;\n    }\n\n    .dataframe thead th {\n        text-align: right;\n    }\n</style>\n<table border=\"1\" class=\"dataframe\">\n  <thead>\n    <tr style=\"text-align: right;\">\n      <th></th>\n      <th>Breast_Cancer</th>\n      <th>Abalone</th>\n    </tr>\n  </thead>\n  <tbody>\n    <tr>\n      <td>NaiveBayes</td>\n      <td>94.680851</td>\n      <td>9.209572</td>\n    </tr>\n    <tr>\n      <td>KNN</td>\n      <td>96.808511</td>\n      <td>21.464830</td>\n    </tr>\n    <tr>\n      <td>DecisionTree</td>\n      <td>88.829787</td>\n      <td>18.636693</td>\n    </tr>\n  </tbody>\n</table>\n</div>",
      "text/plain": "              Breast_Cancer    Abalone\nNaiveBayes        94.680851   9.209572\nKNN               96.808511  21.464830\nDecisionTree      88.829787  18.636693"
     },
     "execution_count": 115,
     "metadata": {},
     "output_type": "execute_result"
    }
   ],
   "source": [
    "df_holdout2"
   ]
  },
  {
   "cell_type": "code",
   "execution_count": 116,
   "metadata": {},
   "outputs": [
    {
     "data": {
      "text/html": "<div>\n<style scoped>\n    .dataframe tbody tr th:only-of-type {\n        vertical-align: middle;\n    }\n\n    .dataframe tbody tr th {\n        vertical-align: top;\n    }\n\n    .dataframe thead th {\n        text-align: right;\n    }\n</style>\n<table border=\"1\" class=\"dataframe\">\n  <thead>\n    <tr style=\"text-align: right;\">\n      <th></th>\n      <th>Breast_Cancer</th>\n      <th>Abalone</th>\n    </tr>\n  </thead>\n  <tbody>\n    <tr>\n      <td>NaiveBayes</td>\n      <td>93.076923</td>\n      <td>9.971292</td>\n    </tr>\n    <tr>\n      <td>KNN</td>\n      <td>96.573427</td>\n      <td>20.612440</td>\n    </tr>\n    <tr>\n      <td>DecisionTree</td>\n      <td>93.286713</td>\n      <td>20.287081</td>\n    </tr>\n  </tbody>\n</table>\n</div>",
      "text/plain": "              Breast_Cancer    Abalone\nNaiveBayes        93.076923   9.971292\nKNN               96.573427  20.612440\nDecisionTree      93.286713  20.287081"
     },
     "execution_count": 116,
     "metadata": {},
     "output_type": "execute_result"
    }
   ],
   "source": [
    "df_random1"
   ]
  },
  {
   "cell_type": "code",
   "execution_count": 117,
   "metadata": {},
   "outputs": [
    {
     "data": {
      "text/html": "<div>\n<style scoped>\n    .dataframe tbody tr th:only-of-type {\n        vertical-align: middle;\n    }\n\n    .dataframe tbody tr th {\n        vertical-align: top;\n    }\n\n    .dataframe thead th {\n        text-align: right;\n    }\n</style>\n<table border=\"1\" class=\"dataframe\">\n  <thead>\n    <tr style=\"text-align: right;\">\n      <th></th>\n      <th>Breast_Cancer</th>\n      <th>Abalone</th>\n    </tr>\n  </thead>\n  <tbody>\n    <tr>\n      <td>NaiveBayes</td>\n      <td>93.510638</td>\n      <td>10.246555</td>\n    </tr>\n    <tr>\n      <td>KNN</td>\n      <td>96.702128</td>\n      <td>19.869471</td>\n    </tr>\n    <tr>\n      <td>DecisionTree</td>\n      <td>92.925532</td>\n      <td>19.630167</td>\n    </tr>\n  </tbody>\n</table>\n</div>",
      "text/plain": "              Breast_Cancer    Abalone\nNaiveBayes        93.510638  10.246555\nKNN               96.702128  19.869471\nDecisionTree      92.925532  19.630167"
     },
     "execution_count": 117,
     "metadata": {},
     "output_type": "execute_result"
    }
   ],
   "source": [
    "df_random2"
   ]
  },
  {
   "cell_type": "code",
   "execution_count": null,
   "metadata": {},
   "outputs": [],
   "source": []
  }
 ]
}